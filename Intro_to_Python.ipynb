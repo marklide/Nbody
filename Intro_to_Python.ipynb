{
  "nbformat": 4,
  "nbformat_minor": 0,
  "metadata": {
    "colab": {
      "name": "Intro to Python",
      "provenance": [],
      "collapsed_sections": [
        "mx5BPLMaozSV",
        "5Cj9GdX6dyON",
        "SZtgLUpMkD1-",
        "_FFcWCntZdPJ",
        "0ZlElJOE_9xh",
        "XcPsy2a2I9U3",
        "LMKzPTJaI7Nu",
        "IlCASIf7W86m",
        "E3E9j9WXckwc",
        "P0psA6FDtymI",
        "ttCfwpAVoXKv",
        "GHEHdYZro-68",
        "cKcKom-93tF5",
        "7a4EoXGU9XLV",
        "WPOY7wkMhwNj",
        "_NTP6Z3sr5S2",
        "5XUkzzr4lDHY",
        "1BY6s-cLqMih",
        "z_gE7U9WnwJx"
      ],
      "include_colab_link": true
    },
    "kernelspec": {
      "name": "python3",
      "display_name": "Python 3"
    }
  },
  "cells": [
    {
      "cell_type": "markdown",
      "metadata": {
        "id": "view-in-github",
        "colab_type": "text"
      },
      "source": [
        "<a href=\"https://colab.research.google.com/github/marklide/Nbody/blob/master/Intro_to_Python.ipynb\" target=\"_parent\"><img src=\"https://colab.research.google.com/assets/colab-badge.svg\" alt=\"Open In Colab\"/></a>"
      ]
    },
    {
      "cell_type": "markdown",
      "metadata": {
        "id": "smIz_EZBSkZF"
      },
      "source": [
        "# Intro to Python3\n"
      ]
    },
    {
      "cell_type": "markdown",
      "metadata": {
        "id": "54FxL8NgAKLZ"
      },
      "source": [
        "## Basics"
      ]
    },
    {
      "cell_type": "markdown",
      "metadata": {
        "id": "sbaxEPfpo_ye"
      },
      "source": [
        "I'd encourage people to experiment with the code snippets. If something seems interesting, run it and see what it does."
      ]
    },
    {
      "cell_type": "markdown",
      "metadata": {
        "id": "5IwbQu-ISqGY"
      },
      "source": [
        "Hello World - Traditionally the first program people write when learning a new language."
      ]
    },
    {
      "cell_type": "code",
      "metadata": {
        "id": "fXIz0UcdRuTG",
        "colab": {
          "base_uri": "https://localhost:8080/"
        },
        "outputId": "9d966096-1930-481d-a84a-2b3b230f97b1"
      },
      "source": [
        "print(\"Hello World!\")"
      ],
      "execution_count": null,
      "outputs": [
        {
          "output_type": "stream",
          "text": [
            "Hello World!\n"
          ],
          "name": "stdout"
        }
      ]
    },
    {
      "cell_type": "markdown",
      "metadata": {
        "id": "CcpvG1mtS36p"
      },
      "source": [
        "print() is a function that takes its arguments and outputs them to the console. In Colab, the console is the white box underneath the code where you can see the result of your code and later also interact with the code.  \n",
        "print takes any number of arguments that may be of any type. They will be separated by a space.  \n",
        "So we could also write:"
      ]
    },
    {
      "cell_type": "code",
      "metadata": {
        "id": "q0fSFEPiTVzB",
        "colab": {
          "base_uri": "https://localhost:8080/"
        },
        "outputId": "f0900e16-7b0c-42c9-ae63-e743e1f1ff2b"
      },
      "source": [
        "print(\"Hello\", \"World!\")"
      ],
      "execution_count": null,
      "outputs": [
        {
          "output_type": "stream",
          "text": [
            "Hello World!\n"
          ],
          "name": "stdout"
        }
      ]
    },
    {
      "cell_type": "markdown",
      "metadata": {
        "id": "P8g9_VXbUN9Z"
      },
      "source": [
        "But we are here to use coding for math.   \n",
        "Simple expressions are valid code, like:"
      ]
    },
    {
      "cell_type": "code",
      "metadata": {
        "id": "7uwkA2NgUfin",
        "colab": {
          "base_uri": "https://localhost:8080/",
          "height": 34
        },
        "outputId": "6cddec74-fa2f-41e4-97a9-77c5590ae00b"
      },
      "source": [
        "1+1"
      ],
      "execution_count": null,
      "outputs": [
        {
          "output_type": "execute_result",
          "data": {
            "text/plain": [
              "2"
            ]
          },
          "metadata": {
            "tags": []
          },
          "execution_count": 48
        }
      ]
    },
    {
      "cell_type": "markdown",
      "metadata": {
        "id": "ECEfGIA8Utri"
      },
      "source": [
        "This also works the same for -, /, and &ast;. However, power is &ast;&ast; instead of ^.  \n",
        "If we do write 5 ^ 2, python won't complain or crash but the result will be something very different. ^ in python represents something called bitwise xor, but that's not something you're probably ever going to need so just never use ^ to not get confused.  \n",
        "Note: Those coming from Scala and most other programming languages might expect / to do integer division, e.g. 5/2 is 2, but in python3 the result of division is always a float, so 5/2 will be 2.5. The // operator can instead be used for integer division and it always rounds towards negative infinity, e.g. -5//2 is -3."
      ]
    },
    {
      "cell_type": "code",
      "metadata": {
        "id": "yVcG-2fTW2O9",
        "colab": {
          "base_uri": "https://localhost:8080/",
          "height": 34
        },
        "outputId": "846f1c52-009f-4d78-a623-167ef2221d13"
      },
      "source": [
        "5 - 2"
      ],
      "execution_count": null,
      "outputs": [
        {
          "output_type": "execute_result",
          "data": {
            "text/plain": [
              "3"
            ]
          },
          "metadata": {
            "tags": []
          },
          "execution_count": 49
        }
      ]
    },
    {
      "cell_type": "code",
      "metadata": {
        "id": "1_XD52PfXB0O",
        "colab": {
          "base_uri": "https://localhost:8080/",
          "height": 34
        },
        "outputId": "d313f2d3-d503-4255-ae77-dd4ca4956640"
      },
      "source": [
        "5 / 2"
      ],
      "execution_count": null,
      "outputs": [
        {
          "output_type": "execute_result",
          "data": {
            "text/plain": [
              "2.5"
            ]
          },
          "metadata": {
            "tags": []
          },
          "execution_count": 50
        }
      ]
    },
    {
      "cell_type": "code",
      "metadata": {
        "id": "NsmQ99k009jz",
        "colab": {
          "base_uri": "https://localhost:8080/",
          "height": 34
        },
        "outputId": "35699b4d-0ab6-4030-c553-b9046d1825b2"
      },
      "source": [
        "5//2"
      ],
      "execution_count": null,
      "outputs": [
        {
          "output_type": "execute_result",
          "data": {
            "text/plain": [
              "2"
            ]
          },
          "metadata": {
            "tags": []
          },
          "execution_count": 1
        }
      ]
    },
    {
      "cell_type": "code",
      "metadata": {
        "id": "PdkKS_LuXEJW",
        "colab": {
          "base_uri": "https://localhost:8080/",
          "height": 34
        },
        "outputId": "89b61c5f-6cd5-4e4f-afc5-01bee97f11d3"
      },
      "source": [
        "5 * 2"
      ],
      "execution_count": null,
      "outputs": [
        {
          "output_type": "execute_result",
          "data": {
            "text/plain": [
              "10"
            ]
          },
          "metadata": {
            "tags": []
          },
          "execution_count": 51
        }
      ]
    },
    {
      "cell_type": "markdown",
      "metadata": {
        "id": "juNJ3jRdg7ZT"
      },
      "source": [
        "Parentheses can also be used. However, note that all multiplication must be explicit, e.g. 3(1 + 2) does not work. Instead write: 3 * (1 + 2)."
      ]
    },
    {
      "cell_type": "code",
      "metadata": {
        "id": "zMBHYnGQg6f-",
        "colab": {
          "base_uri": "https://localhost:8080/",
          "height": 34
        },
        "outputId": "c03298a5-c731-494c-9546-3d7714e5ca9b"
      },
      "source": [
        "4 * (5 - 2) / 5"
      ],
      "execution_count": null,
      "outputs": [
        {
          "output_type": "execute_result",
          "data": {
            "text/plain": [
              "2.4"
            ]
          },
          "metadata": {
            "tags": []
          },
          "execution_count": 52
        }
      ]
    },
    {
      "cell_type": "markdown",
      "metadata": {
        "id": "Bfdf4-0b6YPU"
      },
      "source": [
        "There is also the `%` operator, which calculates the modulo or remainder.  \n",
        "For example, if we did a division and expressed our answer as a mixed number like $\\frac{7}{2} = 3\\frac{1}{2}$, then the 1 is the remainder."
      ]
    },
    {
      "cell_type": "code",
      "metadata": {
        "id": "WfMEeD8m7UWo",
        "colab": {
          "base_uri": "https://localhost:8080/",
          "height": 34
        },
        "outputId": "54dc5738-0f9e-441f-b78b-de8dff993272"
      },
      "source": [
        "7 % 2"
      ],
      "execution_count": null,
      "outputs": [
        {
          "output_type": "execute_result",
          "data": {
            "text/plain": [
              "1"
            ]
          },
          "metadata": {
            "tags": []
          },
          "execution_count": 53
        }
      ]
    },
    {
      "cell_type": "code",
      "metadata": {
        "id": "U0B2NSO17Xdl",
        "colab": {
          "base_uri": "https://localhost:8080/",
          "height": 34
        },
        "outputId": "1985f5e3-0bcb-4942-d349-84dfd657b52c"
      },
      "source": [
        "9 % 3"
      ],
      "execution_count": null,
      "outputs": [
        {
          "output_type": "execute_result",
          "data": {
            "text/plain": [
              "0"
            ]
          },
          "metadata": {
            "tags": []
          },
          "execution_count": 54
        }
      ]
    },
    {
      "cell_type": "markdown",
      "metadata": {
        "id": "8_KrNQDgfuHm"
      },
      "source": [
        "The operators `+` and `*` also work on text. Plus appends text, while multiplication repeats it."
      ]
    },
    {
      "cell_type": "code",
      "metadata": {
        "id": "y_hLocrhf_6j",
        "colab": {
          "base_uri": "https://localhost:8080/",
          "height": 35
        },
        "outputId": "51265db8-62cf-485b-9778-12ef48e820f8"
      },
      "source": [
        "'Hello' + ' ' + 'World!'"
      ],
      "execution_count": null,
      "outputs": [
        {
          "output_type": "execute_result",
          "data": {
            "application/vnd.google.colaboratory.intrinsic+json": {
              "type": "string"
            },
            "text/plain": [
              "'Hello World!'"
            ]
          },
          "metadata": {
            "tags": []
          },
          "execution_count": 194
        }
      ]
    },
    {
      "cell_type": "code",
      "metadata": {
        "id": "6MeOyBy7gHL0",
        "colab": {
          "base_uri": "https://localhost:8080/",
          "height": 35
        },
        "outputId": "e6195569-671c-4dcf-b735-a519aa302cd9"
      },
      "source": [
        "'Hello World!' * 3"
      ],
      "execution_count": null,
      "outputs": [
        {
          "output_type": "execute_result",
          "data": {
            "application/vnd.google.colaboratory.intrinsic+json": {
              "type": "string"
            },
            "text/plain": [
              "'Hello World!Hello World!Hello World!'"
            ]
          },
          "metadata": {
            "tags": []
          },
          "execution_count": 195
        }
      ]
    },
    {
      "cell_type": "markdown",
      "metadata": {
        "id": "PHBXSEGGYJvz"
      },
      "source": [
        "All data in python belongs to a type and that affects what can be done with it and what it can store.  \n",
        "The three we've already seen are:\n",
        "- string (text)\n",
        "- int (integers)\n",
        "- float (decimal numbers)\n",
        "\n",
        "Everything in python belongs to some type, and that type can be determined with the type() function.\n",
        "\n",
        "- strings are always surrounded by two ' or \", like 'Some text'\n",
        "- floats are numbers with a decimal or scientific notation"
      ]
    },
    {
      "cell_type": "code",
      "metadata": {
        "id": "wx0D3jaSZSZy",
        "colab": {
          "base_uri": "https://localhost:8080/",
          "height": 34
        },
        "outputId": "c391867a-88ba-46b9-9cef-7a454f97eeb3"
      },
      "source": [
        "type(3.14)"
      ],
      "execution_count": null,
      "outputs": [
        {
          "output_type": "execute_result",
          "data": {
            "text/plain": [
              "float"
            ]
          },
          "metadata": {
            "tags": []
          },
          "execution_count": 55
        }
      ]
    },
    {
      "cell_type": "code",
      "metadata": {
        "id": "wvdagGnHotfD",
        "colab": {
          "base_uri": "https://localhost:8080/",
          "height": 34
        },
        "outputId": "f94a9b3b-3aaf-45e7-f64b-3d16db819532"
      },
      "source": [
        "type('The answer to life, the universe, and everything')"
      ],
      "execution_count": null,
      "outputs": [
        {
          "output_type": "execute_result",
          "data": {
            "text/plain": [
              "str"
            ]
          },
          "metadata": {
            "tags": []
          },
          "execution_count": 3
        }
      ]
    },
    {
      "cell_type": "code",
      "metadata": {
        "id": "fi1oXzAposVI",
        "colab": {
          "base_uri": "https://localhost:8080/",
          "height": 34
        },
        "outputId": "1c3dd3b7-d7ae-4869-9847-7c2a509cd5a7"
      },
      "source": [
        "type(42)"
      ],
      "execution_count": null,
      "outputs": [
        {
          "output_type": "execute_result",
          "data": {
            "text/plain": [
              "int"
            ]
          },
          "metadata": {
            "tags": []
          },
          "execution_count": 2
        }
      ]
    },
    {
      "cell_type": "code",
      "metadata": {
        "id": "Gxr08k45aksL",
        "colab": {
          "base_uri": "https://localhost:8080/",
          "height": 35
        },
        "outputId": "ef6bf095-51bf-4ac1-f9b8-94bda35feabe"
      },
      "source": [
        "\"This is a piece of text\""
      ],
      "execution_count": null,
      "outputs": [
        {
          "output_type": "execute_result",
          "data": {
            "application/vnd.google.colaboratory.intrinsic+json": {
              "type": "string"
            },
            "text/plain": [
              "'This is a piece of text'"
            ]
          },
          "metadata": {
            "tags": []
          },
          "execution_count": 56
        }
      ]
    },
    {
      "cell_type": "code",
      "metadata": {
        "id": "6KHjZbL6bSXY",
        "colab": {
          "base_uri": "https://localhost:8080/",
          "height": 34
        },
        "outputId": "4c0ea5c2-3b72-4a87-ea0e-651a17df4339"
      },
      "source": [
        "0.00000000012"
      ],
      "execution_count": null,
      "outputs": [
        {
          "output_type": "execute_result",
          "data": {
            "text/plain": [
              "1.2e-10"
            ]
          },
          "metadata": {
            "tags": []
          },
          "execution_count": 57
        }
      ]
    },
    {
      "cell_type": "code",
      "metadata": {
        "id": "8yWNQb1Wavmh",
        "colab": {
          "base_uri": "https://localhost:8080/",
          "height": 34
        },
        "outputId": "5a1ce992-b449-4250-c528-f6d76c310b20"
      },
      "source": [
        "1.2e-10"
      ],
      "execution_count": null,
      "outputs": [
        {
          "output_type": "execute_result",
          "data": {
            "text/plain": [
              "1.2e-10"
            ]
          },
          "metadata": {
            "tags": []
          },
          "execution_count": 58
        }
      ]
    },
    {
      "cell_type": "code",
      "metadata": {
        "id": "tusEqT5oajhz",
        "colab": {
          "base_uri": "https://localhost:8080/",
          "height": 34
        },
        "outputId": "440d2727-c7fb-4b1a-874f-c5164a721042"
      },
      "source": [
        "42"
      ],
      "execution_count": null,
      "outputs": [
        {
          "output_type": "execute_result",
          "data": {
            "text/plain": [
              "42"
            ]
          },
          "metadata": {
            "tags": []
          },
          "execution_count": 59
        }
      ]
    },
    {
      "cell_type": "markdown",
      "metadata": {
        "id": "WnR0WfMkZWlN"
      },
      "source": [
        "We can also convert between types with int(), float(), and str()\n",
        "- int() converts to an integer. For float, it will truncate the decimal part\n",
        "- float() converts to a floating-point number\n",
        "- str() converts to a string"
      ]
    },
    {
      "cell_type": "code",
      "metadata": {
        "id": "qQrnmIfnZffF",
        "colab": {
          "base_uri": "https://localhost:8080/",
          "height": 34
        },
        "outputId": "f1af0079-3047-42f9-bd57-0f6587aeaca5"
      },
      "source": [
        "int(3.9)"
      ],
      "execution_count": null,
      "outputs": [
        {
          "output_type": "execute_result",
          "data": {
            "text/plain": [
              "3"
            ]
          },
          "metadata": {
            "tags": []
          },
          "execution_count": 60
        }
      ]
    },
    {
      "cell_type": "code",
      "metadata": {
        "id": "-GyvT-uZbcxA",
        "colab": {
          "base_uri": "https://localhost:8080/",
          "height": 34
        },
        "outputId": "1fb13193-11f5-4e81-de81-2a8b7b8aa63b"
      },
      "source": [
        "int(\"42\")"
      ],
      "execution_count": null,
      "outputs": [
        {
          "output_type": "execute_result",
          "data": {
            "text/plain": [
              "42"
            ]
          },
          "metadata": {
            "tags": []
          },
          "execution_count": 61
        }
      ]
    },
    {
      "cell_type": "code",
      "metadata": {
        "id": "VP_0FBlKbkZQ",
        "colab": {
          "base_uri": "https://localhost:8080/",
          "height": 34
        },
        "outputId": "9e29f10b-da63-4931-e00d-c2de88d8d4d1"
      },
      "source": [
        "float(5)"
      ],
      "execution_count": null,
      "outputs": [
        {
          "output_type": "execute_result",
          "data": {
            "text/plain": [
              "5.0"
            ]
          },
          "metadata": {
            "tags": []
          },
          "execution_count": 62
        }
      ]
    },
    {
      "cell_type": "code",
      "metadata": {
        "id": "_EfhdIXuaAVc",
        "colab": {
          "base_uri": "https://localhost:8080/",
          "height": 34
        },
        "outputId": "d29be84b-5d28-4b12-89a8-0a735e7e9dcd"
      },
      "source": [
        "float(\"3.14\")"
      ],
      "execution_count": null,
      "outputs": [
        {
          "output_type": "execute_result",
          "data": {
            "text/plain": [
              "3.14"
            ]
          },
          "metadata": {
            "tags": []
          },
          "execution_count": 63
        }
      ]
    },
    {
      "cell_type": "markdown",
      "metadata": {
        "id": "XGx87rnQpyXR"
      },
      "source": [
        "Because \"3.14\" is surrounded by quotation marks, it is stored as a string.  \n",
        "Note: As long as it is stored as a string, math cannot be done with it. So if you want to do math, use `float()` on it first like in the example above."
      ]
    },
    {
      "cell_type": "code",
      "metadata": {
        "id": "xUH2Vz7FaEXT",
        "colab": {
          "base_uri": "https://localhost:8080/",
          "height": 35
        },
        "outputId": "18c892b6-eff5-4b49-b151-bd1d12ceb84c"
      },
      "source": [
        "str(5)"
      ],
      "execution_count": null,
      "outputs": [
        {
          "output_type": "execute_result",
          "data": {
            "application/vnd.google.colaboratory.intrinsic+json": {
              "type": "string"
            },
            "text/plain": [
              "'5'"
            ]
          },
          "metadata": {
            "tags": []
          },
          "execution_count": 64
        }
      ]
    },
    {
      "cell_type": "code",
      "metadata": {
        "id": "ENTWbdIGboZQ",
        "colab": {
          "base_uri": "https://localhost:8080/",
          "height": 35
        },
        "outputId": "514c4e19-b6cf-4e40-80f3-24e130ca8db1"
      },
      "source": [
        "str(3.14)"
      ],
      "execution_count": null,
      "outputs": [
        {
          "output_type": "execute_result",
          "data": {
            "application/vnd.google.colaboratory.intrinsic+json": {
              "type": "string"
            },
            "text/plain": [
              "'3.14'"
            ]
          },
          "metadata": {
            "tags": []
          },
          "execution_count": 65
        }
      ]
    },
    {
      "cell_type": "markdown",
      "metadata": {
        "id": "FHk4ZVtjdAbl"
      },
      "source": [
        "If we try to convert values that can't be converted, we'll get an error."
      ]
    },
    {
      "cell_type": "code",
      "metadata": {
        "id": "t3Wfg-NidKKj",
        "colab": {
          "base_uri": "https://localhost:8080/",
          "height": 164
        },
        "outputId": "f79ee9bf-bfa3-4130-c18a-e0fb31961392"
      },
      "source": [
        "float(\"Hello World\")"
      ],
      "execution_count": null,
      "outputs": [
        {
          "output_type": "error",
          "ename": "ValueError",
          "evalue": "ignored",
          "traceback": [
            "\u001b[0;31m---------------------------------------------------------------------------\u001b[0m",
            "\u001b[0;31mValueError\u001b[0m                                Traceback (most recent call last)",
            "\u001b[0;32m<ipython-input-66-3af06cc9c03c>\u001b[0m in \u001b[0;36m<module>\u001b[0;34m()\u001b[0m\n\u001b[0;32m----> 1\u001b[0;31m \u001b[0mfloat\u001b[0m\u001b[0;34m(\u001b[0m\u001b[0;34m\"Hello World\"\u001b[0m\u001b[0;34m)\u001b[0m\u001b[0;34m\u001b[0m\u001b[0;34m\u001b[0m\u001b[0m\n\u001b[0m",
            "\u001b[0;31mValueError\u001b[0m: could not convert string to float: 'Hello World'"
          ]
        }
      ]
    },
    {
      "cell_type": "markdown",
      "metadata": {
        "id": "kDPV5F2Lqo1j"
      },
      "source": [
        "For string to float or int conversion to not error, the string must contain only a constant of the type we're trying to convert to.  \n",
        "For example, `3.14` is a valid float, `6.02e23` is also a valid float. Thus `float()` could convert these to the `float` type without issue.  \n",
        "However, if we run `int(\"3.14\")`, it fails because `3.14` is not an integer constant, but a decimal number."
      ]
    },
    {
      "cell_type": "code",
      "metadata": {
        "id": "AR4p6qupdamP",
        "colab": {
          "base_uri": "https://localhost:8080/",
          "height": 164
        },
        "outputId": "fa362601-a06c-4bb0-89e1-b70ddbe65a6d"
      },
      "source": [
        "int(\"3.14\")"
      ],
      "execution_count": null,
      "outputs": [
        {
          "output_type": "error",
          "ename": "ValueError",
          "evalue": "ignored",
          "traceback": [
            "\u001b[0;31m---------------------------------------------------------------------------\u001b[0m",
            "\u001b[0;31mValueError\u001b[0m                                Traceback (most recent call last)",
            "\u001b[0;32m<ipython-input-68-7874f0f8dace>\u001b[0m in \u001b[0;36m<module>\u001b[0;34m()\u001b[0m\n\u001b[0;32m----> 1\u001b[0;31m \u001b[0mint\u001b[0m\u001b[0;34m(\u001b[0m\u001b[0;34m\"3.14\"\u001b[0m\u001b[0;34m)\u001b[0m\u001b[0;34m\u001b[0m\u001b[0;34m\u001b[0m\u001b[0m\n\u001b[0m",
            "\u001b[0;31mValueError\u001b[0m: invalid literal for int() with base 10: '3.14'"
          ]
        }
      ]
    },
    {
      "cell_type": "markdown",
      "metadata": {
        "id": "sSW6zPR2rynw"
      },
      "source": [
        "If we wanted to get `3` from `\"3.14\"`, then we can use `float()` to turn it from a string into a `float`, and then use `int()` to convert from `float` to `int`.  \n",
        "This works because `float()` can parse the string and `int()` can truncate a `float` to `int`."
      ]
    },
    {
      "cell_type": "code",
      "metadata": {
        "id": "HNEBb8wxsGoq",
        "colab": {
          "base_uri": "https://localhost:8080/",
          "height": 34
        },
        "outputId": "21418beb-67de-4117-c07e-9c042b51e4f5"
      },
      "source": [
        "int(float(\"3.14\"))"
      ],
      "execution_count": null,
      "outputs": [
        {
          "output_type": "execute_result",
          "data": {
            "text/plain": [
              "3"
            ]
          },
          "metadata": {
            "tags": []
          },
          "execution_count": 4
        }
      ]
    },
    {
      "cell_type": "markdown",
      "metadata": {
        "id": "BW7yB86YqyXO"
      },
      "source": [
        "A quick but important note on float:  \n",
        "Floating-point numbers are not precise. For example, certain numbers like 0.1 and 0.2 cannot be fully stored in binary as in binary they are repeating, like 1/3 in base 10 is 0.333... So if we add decimals like 0.1 and 0.2, we can get rounding errors, like in the example below."
      ]
    },
    {
      "cell_type": "code",
      "metadata": {
        "id": "TQjHd0KcryiV",
        "colab": {
          "base_uri": "https://localhost:8080/",
          "height": 34
        },
        "outputId": "f6d89456-bdea-48fc-c15d-1db7611d54ee"
      },
      "source": [
        "0.1 + 0.2"
      ],
      "execution_count": null,
      "outputs": [
        {
          "output_type": "execute_result",
          "data": {
            "text/plain": [
              "0.30000000000000004"
            ]
          },
          "metadata": {
            "tags": []
          },
          "execution_count": 69
        }
      ]
    },
    {
      "cell_type": "markdown",
      "metadata": {
        "id": "DHPxQV0Kr_C2"
      },
      "source": [
        "Issues like the one above are not unique to python, they are near-universal to computers just because of how floating-point numbers are represented in binary and how arithmetic is done on them by the hardware. Beware of this especially when checking if some value equals another float as will be covered later, as otherwise, we might get strange results."
      ]
    },
    {
      "cell_type": "markdown",
      "metadata": {
        "id": "mx5BPLMaozSV"
      },
      "source": [
        "### Comments"
      ]
    },
    {
      "cell_type": "markdown",
      "metadata": {
        "id": "-FGcWcLso4Ug"
      },
      "source": [
        "Sometimes it is helpful to add a comment to our code to explain our reasoning or to remember some important detail."
      ]
    },
    {
      "cell_type": "code",
      "metadata": {
        "id": "GujHd08spI_5"
      },
      "source": [
        "3 ** 5 # 3 to the power 5"
      ],
      "execution_count": null,
      "outputs": []
    },
    {
      "cell_type": "markdown",
      "metadata": {
        "id": "EyAYk7u8pVs6"
      },
      "source": [
        "A single-line comment starts with `#` and goes to the end of the line. It is ignored by the python interpreter.  \n",
        "Multiline comments can be made by surrounding the text to comment out with `'''`. This is technically a string, so multiline strings can also be added to code with this."
      ]
    },
    {
      "cell_type": "code",
      "metadata": {
        "id": "EPgeyLJXpw8E",
        "colab": {
          "base_uri": "https://localhost:8080/",
          "height": 34
        },
        "outputId": "b1e18098-5543-4a88-b7d4-69e3aee875e7"
      },
      "source": [
        "'''\n",
        "Anything here is considered text and not code\n",
        "3 + 5\n",
        "The line above is not computed as it is considered text\n",
        "'''\n",
        "3 / 5"
      ],
      "execution_count": null,
      "outputs": [
        {
          "output_type": "execute_result",
          "data": {
            "text/plain": [
              "0.6"
            ]
          },
          "metadata": {
            "tags": []
          },
          "execution_count": 209
        }
      ]
    },
    {
      "cell_type": "markdown",
      "metadata": {
        "id": "5Cj9GdX6dyON"
      },
      "source": [
        "## Variables"
      ]
    },
    {
      "cell_type": "markdown",
      "metadata": {
        "id": "1m77Izlgd6y3"
      },
      "source": [
        "If we could only add and subtract constants, we would have nothing more than a basic calculator. So we have variables that store data so that we can write code that can calculate a result for many inputs."
      ]
    },
    {
      "cell_type": "code",
      "metadata": {
        "id": "U_LbruDyeb_J"
      },
      "source": [
        "x = 5"
      ],
      "execution_count": null,
      "outputs": []
    },
    {
      "cell_type": "markdown",
      "metadata": {
        "id": "B9VszkinehPN"
      },
      "source": [
        "Variable assignment in python is easier than in most languages as there are no keywords or other specifiers required. We can then use x to refer to the value 5 that we set it to (as above). Note that the following command does not change the value of x, so if this line is run twice, it will still output 7."
      ]
    },
    {
      "cell_type": "code",
      "metadata": {
        "id": "Nl6ed3Noe43R",
        "colab": {
          "base_uri": "https://localhost:8080/",
          "height": 34
        },
        "outputId": "4acf7175-b250-41be-fc57-7b89103d258f"
      },
      "source": [
        "x + 2"
      ],
      "execution_count": null,
      "outputs": [
        {
          "output_type": "execute_result",
          "data": {
            "text/plain": [
              "7"
            ]
          },
          "metadata": {
            "tags": []
          },
          "execution_count": 114
        }
      ]
    },
    {
      "cell_type": "markdown",
      "metadata": {
        "id": "LnQXUVwcfsP-"
      },
      "source": [
        "Note: x is not a constant, and x = 5 is not an equality in the mathematical sense but rather an assignment.  \n",
        "Thus a statement like the one below makes sense in python. This does modify x, so if it is run again, the output will be one higher."
      ]
    },
    {
      "cell_type": "code",
      "metadata": {
        "id": "_qYo6PBfgHth",
        "colab": {
          "base_uri": "https://localhost:8080/",
          "height": 34
        },
        "outputId": "0fb75fb3-1b37-41b0-bd20-b0f47cd88ad6"
      },
      "source": [
        "x = x + 1\n",
        "x"
      ],
      "execution_count": null,
      "outputs": [
        {
          "output_type": "execute_result",
          "data": {
            "text/plain": [
              "6"
            ]
          },
          "metadata": {
            "tags": []
          },
          "execution_count": 5
        }
      ]
    },
    {
      "cell_type": "markdown",
      "metadata": {
        "id": "YwjS6vqLgZcq"
      },
      "source": [
        "Near the beginning I mentioned that we can't have implied multiplication like `4(1+1)`, but instead need to write `4*(1+1)`.  \n",
        "Likewise, with variables multiplication must be explicit so `4x` is a SyntaxError, but `4 * x` is not.  "
      ]
    },
    {
      "cell_type": "code",
      "metadata": {
        "id": "fpEM_UxAwEnl",
        "colab": {
          "base_uri": "https://localhost:8080/",
          "height": 34
        },
        "outputId": "d91c95ea-4582-4e5a-fb57-452961a4dcaa"
      },
      "source": [
        "7 * x"
      ],
      "execution_count": null,
      "outputs": [
        {
          "output_type": "execute_result",
          "data": {
            "text/plain": [
              "42"
            ]
          },
          "metadata": {
            "tags": []
          },
          "execution_count": 7
        }
      ]
    },
    {
      "cell_type": "markdown",
      "metadata": {
        "id": "IgLXdKqMf-28"
      },
      "source": [
        "When there is an assignment of a variable, it is always the variable on the left that is being set to the value of the expression on the right. So in the following line of code, y is being set to the value of x."
      ]
    },
    {
      "cell_type": "code",
      "metadata": {
        "id": "N8Q9gwgKitcD",
        "colab": {
          "base_uri": "https://localhost:8080/",
          "height": 34
        },
        "outputId": "b57ed963-e02a-4bbf-9085-89748827629f"
      },
      "source": [
        "y = x\n",
        "y"
      ],
      "execution_count": null,
      "outputs": [
        {
          "output_type": "execute_result",
          "data": {
            "text/plain": [
              "6"
            ]
          },
          "metadata": {
            "tags": []
          },
          "execution_count": 8
        }
      ]
    },
    {
      "cell_type": "markdown",
      "metadata": {
        "id": "3PK9AA6TjrJ_"
      },
      "source": [
        "The previous example may look similar to a relation or function in the mathematical sense, but if x changes, y will not until we run that piece of code again. Similarly, writing x = t + 1 will fail because t hasn't been given a value yet.  \n",
        "In this case, what we are looking for are functions."
      ]
    },
    {
      "cell_type": "markdown",
      "metadata": {
        "id": "SZtgLUpMkD1-"
      },
      "source": [
        "## Functions"
      ]
    },
    {
      "cell_type": "markdown",
      "metadata": {
        "id": "coaYATMhkeHM"
      },
      "source": [
        "Let's say we want to be able to calculate the y value for every x in a parabola.\n",
        "In mathematics, this could be expressed as  \n",
        "f(x) = x<sup>2</sup>  \n",
        "In python, we can get something similar using functions"
      ]
    },
    {
      "cell_type": "code",
      "metadata": {
        "id": "8imwHJ1Gkbi5"
      },
      "source": [
        "def f(x):\n",
        "  return x ** 2"
      ],
      "execution_count": null,
      "outputs": []
    },
    {
      "cell_type": "markdown",
      "metadata": {
        "id": "wMfowOw0ldDY"
      },
      "source": [
        "Every function starts with the `def` keyword, followed by the function name, and its parameters in parentheses. Parameters are the values that the function will take in. Think of the parameters like variables that are specified when you call the function. For example, if we say `f(5)`, then `x ** 2` is going to be run with x being `5`.     \n",
        "After the parentheses is a colon, which denotes the start of the function's code.  \n",
        "All code within the function must be indented. This indentation must be consistent throughout the code. So use either only spaces or only tabs, and always use the same amount.  \n",
        "To specify what value the function will return, use the `return` keyword followed by whatever data we want to output. "
      ]
    },
    {
      "cell_type": "markdown",
      "metadata": {
        "id": "1jtFx37Lmp3U"
      },
      "source": [
        "To run the function, write the name with parentheses next to it with the arguments, like so:"
      ]
    },
    {
      "cell_type": "code",
      "metadata": {
        "id": "TsqjbcljlzYn",
        "colab": {
          "base_uri": "https://localhost:8080/",
          "height": 34
        },
        "outputId": "eb653212-ffbc-4b37-e465-17ac9ca702ca"
      },
      "source": [
        "f(5)"
      ],
      "execution_count": null,
      "outputs": [
        {
          "output_type": "execute_result",
          "data": {
            "text/plain": [
              "25"
            ]
          },
          "metadata": {
            "tags": []
          },
          "execution_count": 118
        }
      ]
    },
    {
      "cell_type": "markdown",
      "metadata": {
        "id": "zVOU8Imbm42s"
      },
      "source": [
        "When `f(5)` is called, the code in the function is run with x being set to 5.  \n",
        "Note: Evaluating a function by executing `f(5)` is called calling the function.  \n",
        "Note: We never put a constraint on what type x can be, so we could run `f('text')` for example, but that will crash because squaring a string doesn't make sense either to us or python."
      ]
    },
    {
      "cell_type": "markdown",
      "metadata": {
        "id": "Rgd-2SrQzkm7"
      },
      "source": [
        "On terminology,\n",
        "\n",
        "```\n",
        "def f(x):\n",
        "  return x ** 2\n",
        "\n",
        "f(5)\n",
        "```\n",
        "\n",
        "- `x` is the parameter. It is specified when running the function.\n",
        "- `5` is the argument. It specifies what `x` (the parameter) is going to be.\n",
        "- `f` is the name of the function.\n",
        "- `f(5)` is called calling the function. However, I will also use running or executing.\n",
        "- `25` is the value returned by the function. It is what the expression after the `return` statement evaluates to (`5**2` here because we ran `f` with an argument of `5`). \n"
      ]
    },
    {
      "cell_type": "markdown",
      "metadata": {
        "id": "hHo-0jBwtCjr"
      },
      "source": [
        "Functions can also have multiple inputs, so if we want to have a 3D parabola, we could write:"
      ]
    },
    {
      "cell_type": "code",
      "metadata": {
        "id": "79kreP5ZtRwo"
      },
      "source": [
        "def g(x, y):\n",
        "  return x ** 2 + y ** 2"
      ],
      "execution_count": null,
      "outputs": []
    },
    {
      "cell_type": "markdown",
      "metadata": {
        "id": "ieYtMBW7uO4x"
      },
      "source": [
        "Functions in Python can do a lot more than mathematical functions  \n",
        "Note: The variables used within a function are local to a function, so although we use x and y in our function, they aren't affected by our function. This is called scope, in that all the variables used within a scope are only part of that scope and don't exist anymore when the scope is left (when the function's code is complete)."
      ]
    },
    {
      "cell_type": "code",
      "metadata": {
        "id": "lczuHVTu1OOa",
        "colab": {
          "base_uri": "https://localhost:8080/",
          "height": 34
        },
        "outputId": "775eca1a-cda2-4d1d-bbe4-c48e8d8aaa0b"
      },
      "source": [
        "x = 4\n",
        "\n",
        "def setX():\n",
        "  x = 8\n",
        "\n",
        "print(x)"
      ],
      "execution_count": null,
      "outputs": [
        {
          "output_type": "stream",
          "text": [
            "4\n"
          ],
          "name": "stdout"
        }
      ]
    },
    {
      "cell_type": "markdown",
      "metadata": {
        "id": "hMKy0fUe1NwV"
      },
      "source": [
        "Here, the x outside the function and the x inside of the function are two separate variables, and the one inside of the function stops existing after the function is done running.  \n",
        "Functions can, however, read from variables outside, they just can't write to them."
      ]
    },
    {
      "cell_type": "code",
      "metadata": {
        "id": "vt2A041W12yG",
        "colab": {
          "base_uri": "https://localhost:8080/",
          "height": 34
        },
        "outputId": "3c6c78b4-7186-4a14-b3a9-c5688f07a742"
      },
      "source": [
        "def printX():\n",
        "  print(x)\n",
        "\n",
        "printX()"
      ],
      "execution_count": null,
      "outputs": [
        {
          "output_type": "stream",
          "text": [
            "4\n"
          ],
          "name": "stdout"
        }
      ]
    },
    {
      "cell_type": "markdown",
      "metadata": {
        "id": "9fzgRsOL2A8N"
      },
      "source": [
        "Note: This function does not return the value of x. It may seem the same as a function that says:\n",
        "\n",
        "```\n",
        "def returnX():\n",
        "  return x\n",
        "```\n",
        "\n",
        "However, `print()` sends data for us to see. Anything sent to `print()` is only useful for us, not the program. So if we wanted to get the value of x in our program, we would use `returnX()`.\n",
        "\n"
      ]
    },
    {
      "cell_type": "markdown",
      "metadata": {
        "id": "wq-kMuzVwA-N"
      },
      "source": [
        "When naming functions, it is best to describe what the function does in the name. So try to avoid using f and g as I have done"
      ]
    },
    {
      "cell_type": "code",
      "metadata": {
        "id": "DPZtfJJ8w6qq"
      },
      "source": [
        "def square(x):\n",
        "  return x ** 2"
      ],
      "execution_count": null,
      "outputs": []
    },
    {
      "cell_type": "code",
      "metadata": {
        "id": "GjWfxP2Xv3ov",
        "colab": {
          "base_uri": "https://localhost:8080/",
          "height": 34
        },
        "outputId": "4b7e6044-2c13-4bd4-f807-914925f5eb74"
      },
      "source": [
        "def average(a, b, c, d):\n",
        "  return (a + b + c + d) / 4\n",
        "\n",
        "average(1,2,3,4)"
      ],
      "execution_count": null,
      "outputs": [
        {
          "output_type": "execute_result",
          "data": {
            "text/plain": [
              "2.5"
            ]
          },
          "metadata": {
            "tags": []
          },
          "execution_count": 121
        }
      ]
    },
    {
      "cell_type": "markdown",
      "metadata": {
        "id": "gKjyGTOawmQ_"
      },
      "source": [
        "Functions can also call other functions like:"
      ]
    },
    {
      "cell_type": "code",
      "metadata": {
        "id": "0jopB3wowqaH",
        "colab": {
          "base_uri": "https://localhost:8080/",
          "height": 34
        },
        "outputId": "ee62122c-a89a-4617-f28e-6fc20072a246"
      },
      "source": [
        "def distance(x, y):\n",
        "  return ( square(x) + square(y) ) ** 0.5\n",
        "\n",
        "\n",
        "distance(1, 1)"
      ],
      "execution_count": null,
      "outputs": [
        {
          "output_type": "execute_result",
          "data": {
            "text/plain": [
              "1.4142135623730951"
            ]
          },
          "metadata": {
            "tags": []
          },
          "execution_count": 122
        }
      ]
    },
    {
      "cell_type": "markdown",
      "metadata": {
        "id": "kdO7r6OHg3S5"
      },
      "source": [
        "Functions in Python can be passed as arguments and assigned to variables just like integers or strings."
      ]
    },
    {
      "cell_type": "code",
      "metadata": {
        "id": "xNkQhxjZhQK3",
        "colab": {
          "base_uri": "https://localhost:8080/",
          "height": 51
        },
        "outputId": "dc043e5a-1546-4b47-bbb1-b52a294ed533"
      },
      "source": [
        "def foo():\n",
        "  print('foo has been called')\n",
        "\n",
        "def caller(func):\n",
        "  print('calling function')\n",
        "  func()\n",
        "\n",
        "caller(foo)"
      ],
      "execution_count": null,
      "outputs": [
        {
          "output_type": "stream",
          "text": [
            "calling function\n",
            "foo has been called\n"
          ],
          "name": "stdout"
        }
      ]
    },
    {
      "cell_type": "markdown",
      "metadata": {
        "id": "b4ASBhpn4C_B"
      },
      "source": [
        "`foo` prints `'foo has been called'` to the output when run.  \n",
        "  \n",
        "`caller` will first print `'calling function'`, and then call whatever function it was given.  \n",
        "  \n",
        "So when `caller(foo)` is called, the parameter `func` is set to `foo` and then `print('calling function')` runs. After that, `func()` is run, but because `func` is set to `foo`, `foo` is called."
      ]
    },
    {
      "cell_type": "code",
      "metadata": {
        "id": "XcHKZ86O3dGp",
        "colab": {
          "base_uri": "https://localhost:8080/",
          "height": 51
        },
        "outputId": "749860b5-60ff-4562-c1fa-c90b08796caa"
      },
      "source": [
        "print('setting foo to bar')\n",
        "bar = foo\n",
        "\n",
        "bar()"
      ],
      "execution_count": null,
      "outputs": [
        {
          "output_type": "stream",
          "text": [
            "setting foo to bar\n",
            "foo has been called\n"
          ],
          "name": "stdout"
        }
      ]
    },
    {
      "cell_type": "markdown",
      "metadata": {
        "id": "mFtuEUAO3lkB"
      },
      "source": [
        "In the example above we are setting the variable `bar` to be the function `foo`. Note that this does not change the function so even though we call `bar()` it prints `foo has been called`."
      ]
    },
    {
      "cell_type": "markdown",
      "metadata": {
        "id": "E9M09RoR28RN"
      },
      "source": [
        "All the functions I've presented use the `return` keyword, but that is not necessary. When a function exits without a return statement, it will return `None`. Think of `None` like a constant used whenever no value is available.\n",
        "\n",
        "Note for Scala/Java/C++ programmers: `None` is unlike null. `None` is an object and has its own type, `NoneType`. "
      ]
    },
    {
      "cell_type": "code",
      "metadata": {
        "id": "mTPoit5p5cJ-"
      },
      "source": [
        "def thisFunctionReturnsNone():\n",
        "  pass"
      ],
      "execution_count": null,
      "outputs": []
    },
    {
      "cell_type": "markdown",
      "metadata": {
        "id": "j6bPFZXm5gqR"
      },
      "source": [
        "Note: `pass` is a keyword used when no action is desired. Syntactically at least one statement is always required in a block of code like that of a function."
      ]
    },
    {
      "cell_type": "markdown",
      "metadata": {
        "id": "7-y-xAhP0-HV"
      },
      "source": [
        "There is also a collection of built-in functions. `print()` is one we have seen already, and it prints its arguments to the screen and returns nothing, or `None` to be more specific. There is another function that does the opposite of `print`, `input()`. While `print` takes strings and displays them on the screen, `input` asks for input from the user and returns it as a string. To let the user know what they are supposed to enter, `input` also, like `print`, will write its arguments to the screen."
      ]
    },
    {
      "cell_type": "code",
      "metadata": {
        "id": "EmBn-fnD172n",
        "colab": {
          "base_uri": "https://localhost:8080/",
          "height": 51
        },
        "outputId": "959bd348-71fc-4849-9ede-4764080525fa"
      },
      "source": [
        "userInput = input('Enter some text: ')\n",
        "print('The user said:', userInput)"
      ],
      "execution_count": null,
      "outputs": [
        {
          "output_type": "stream",
          "text": [
            "Enter some text: test\n",
            "The user said: test\n"
          ],
          "name": "stdout"
        }
      ]
    },
    {
      "cell_type": "markdown",
      "metadata": {
        "id": "y3OPR5fu2uwz"
      },
      "source": [
        "A full list of built-in functions and their description can be found at https://docs.python.org/3/library/functions.html."
      ]
    },
    {
      "cell_type": "markdown",
      "metadata": {
        "id": "_FFcWCntZdPJ"
      },
      "source": [
        "### Random Numbers & Importing Modules"
      ]
    },
    {
      "cell_type": "markdown",
      "metadata": {
        "id": "2Xqg2Z3rZf8I"
      },
      "source": [
        "Sometimes we need random numbers, be it for a game or setting the initial values of a neural network. Python provides a module that has code for generating random numbers. A module is a file or collection of files of python code that we can use in our script using the `import` statement.  \n",
        "Note: Every python file is a module and can be imported."
      ]
    },
    {
      "cell_type": "code",
      "metadata": {
        "id": "BrLDa0skamsS"
      },
      "source": [
        "import random"
      ],
      "execution_count": null,
      "outputs": []
    },
    {
      "cell_type": "markdown",
      "metadata": {
        "id": "cGlRBffTasS9"
      },
      "source": [
        "This statement loads the module random that is part of Python's standard library. `random` now refers to the module and we can use any function defined in random by prepending `random.` to the function's name, like for example, `random.randint(2, 4)`\n"
      ]
    },
    {
      "cell_type": "markdown",
      "metadata": {
        "id": "COncC1JNbmUl"
      },
      "source": [
        "For example, the function `random()` generates a float between 0 and 1, excluding 1."
      ]
    },
    {
      "cell_type": "code",
      "metadata": {
        "id": "_PkMHlXBbBlp",
        "colab": {
          "base_uri": "https://localhost:8080/",
          "height": 34
        },
        "outputId": "373bf73d-d685-4623-853c-1bac554276f3"
      },
      "source": [
        "random.random()"
      ],
      "execution_count": null,
      "outputs": [
        {
          "output_type": "execute_result",
          "data": {
            "text/plain": [
              "0.7364712141640124"
            ]
          },
          "metadata": {
            "tags": []
          },
          "execution_count": 12
        }
      ]
    },
    {
      "cell_type": "markdown",
      "metadata": {
        "id": "C-fGAo76b0i8"
      },
      "source": [
        "A full list of the random module's functions can be found at https://docs.python.org/3/library/random.html.  \n",
        "For full documentation on the standard library and all the modules, see https://docs.python.org/3/library/index.html."
      ]
    },
    {
      "cell_type": "markdown",
      "metadata": {
        "id": "28O0YCSAcjB6"
      },
      "source": [
        "A note about random: Computers are deterministic and so `random` is not actually random. Random number generaters use a seed obtained from some arbitrary place (Python usually uses the current time for this) to generate numbers. Thus, if we use the same seed, we will get the same numbers every time."
      ]
    },
    {
      "cell_type": "code",
      "metadata": {
        "id": "RHqlXEG2dvOh",
        "colab": {
          "base_uri": "https://localhost:8080/",
          "height": 51
        },
        "outputId": "8b604c47-fe7d-4417-9c07-bee7a78cf425"
      },
      "source": [
        "random.seed(42)\n",
        "print(random.random())\n",
        "\n",
        "random.seed(42)\n",
        "print(random.random())"
      ],
      "execution_count": null,
      "outputs": [
        {
          "output_type": "stream",
          "text": [
            "0.6394267984578837\n",
            "0.6394267984578837\n"
          ],
          "name": "stdout"
        }
      ]
    },
    {
      "cell_type": "markdown",
      "metadata": {
        "id": "Hen8Em4nd5Ql"
      },
      "source": [
        "Notice how when we set the seed like in the code above, we get the same result every time. Therefore this is called pseudo-random numbers because they appear to be random but aren't.  \n",
        "Note: Because of this predictability, never use random for anything involving encryption. Use `secrets` instead."
      ]
    },
    {
      "cell_type": "markdown",
      "metadata": {
        "id": "UzWiqdR2fQzX"
      },
      "source": [
        "There are many functions in random, but one especially useful is `randint`.\n",
        "It takes two arguments and will generate a random integer between the two, including both ends. "
      ]
    },
    {
      "cell_type": "code",
      "metadata": {
        "id": "u_FhhjZJf7yV",
        "colab": {
          "base_uri": "https://localhost:8080/",
          "height": 34
        },
        "outputId": "ff8b7ba1-397c-4568-8ab8-769ef281d34f"
      },
      "source": [
        "random.randint(2, 4)"
      ],
      "execution_count": null,
      "outputs": [
        {
          "output_type": "execute_result",
          "data": {
            "text/plain": [
              "4"
            ]
          },
          "metadata": {
            "tags": []
          },
          "execution_count": 20
        }
      ]
    },
    {
      "cell_type": "markdown",
      "metadata": {
        "id": "dymYu61NgTFn"
      },
      "source": [
        "On the note of importing again, we can also import just one function from a module if it is all we need using the keyword `from`."
      ]
    },
    {
      "cell_type": "code",
      "metadata": {
        "id": "h8oVrTyUgbl5"
      },
      "source": [
        "from random import randint"
      ],
      "execution_count": null,
      "outputs": []
    },
    {
      "cell_type": "markdown",
      "metadata": {
        "id": "-kicPikWgiDe"
      },
      "source": [
        "Now we can use `randint` on its own without specifying the module like `random.randint`"
      ]
    },
    {
      "cell_type": "code",
      "metadata": {
        "id": "L49aoIM_geMm",
        "colab": {
          "base_uri": "https://localhost:8080/",
          "height": 34
        },
        "outputId": "3d7008f0-be7f-465d-f080-d64873383d0e"
      },
      "source": [
        "randint(1, 10)"
      ],
      "execution_count": null,
      "outputs": [
        {
          "output_type": "execute_result",
          "data": {
            "text/plain": [
              "2"
            ]
          },
          "metadata": {
            "tags": []
          },
          "execution_count": 23
        }
      ]
    },
    {
      "cell_type": "markdown",
      "metadata": {
        "id": "0ZlElJOE_9xh"
      },
      "source": [
        "## Lists, Tuples, Dicts, Sets"
      ]
    },
    {
      "cell_type": "markdown",
      "metadata": {
        "id": "XcPsy2a2I9U3"
      },
      "source": [
        "### List"
      ]
    },
    {
      "cell_type": "markdown",
      "metadata": {
        "id": "q0_VjxGpAFGb"
      },
      "source": [
        "Often we need to keep track of many values, in which it would be easier to have a list instead of a dozen variables.  \n",
        "Lists can track a variety of values and allows us to append, remove, and search the list.\n",
        "Lists can also contain values of different types, although that is usually avoided.\n",
        "  \n",
        "Note: For people familiar with arrays from other languages, the list serves most of the time as the Python counterpart for the array."
      ]
    },
    {
      "cell_type": "code",
      "metadata": {
        "id": "FUl40R3BAvvP"
      },
      "source": [
        "letters = ['a', 'b', 'c', 'd', 'e', 'f']"
      ],
      "execution_count": null,
      "outputs": []
    },
    {
      "cell_type": "markdown",
      "metadata": {
        "id": "8Zl4TKzEB9qX"
      },
      "source": [
        "Values in a list are separated by commas and surrounded by square brackets.\n",
        "\n",
        "To get the value at a specific index, use: variable\\[ index \\]"
      ]
    },
    {
      "cell_type": "code",
      "metadata": {
        "id": "NTXGueJUCXBJ",
        "colab": {
          "base_uri": "https://localhost:8080/",
          "height": 35
        },
        "outputId": "85ea888f-6ab1-49cb-d9f2-c0d552f8dd91"
      },
      "source": [
        "letters[3]"
      ],
      "execution_count": null,
      "outputs": [
        {
          "output_type": "execute_result",
          "data": {
            "application/vnd.google.colaboratory.intrinsic+json": {
              "type": "string"
            },
            "text/plain": [
              "'d'"
            ]
          },
          "metadata": {
            "tags": []
          },
          "execution_count": 2
        }
      ]
    },
    {
      "cell_type": "markdown",
      "metadata": {
        "id": "7qrvSsNpCaOJ"
      },
      "source": [
        "D, however, is not the third letter of the alphabet. This is because in Python, as in all good programming languages, indexing starts at 0.  \n",
        "So in the case of our letters list, index 0 is 'a'"
      ]
    },
    {
      "cell_type": "code",
      "metadata": {
        "id": "y3_boPsLECzm",
        "colab": {
          "base_uri": "https://localhost:8080/",
          "height": 35
        },
        "outputId": "aeb68483-cb5d-4ed6-aaa5-965bedec278a"
      },
      "source": [
        "letters[0]"
      ],
      "execution_count": null,
      "outputs": [
        {
          "output_type": "execute_result",
          "data": {
            "application/vnd.google.colaboratory.intrinsic+json": {
              "type": "string"
            },
            "text/plain": [
              "'a'"
            ]
          },
          "metadata": {
            "tags": []
          },
          "execution_count": 3
        }
      ]
    },
    {
      "cell_type": "markdown",
      "metadata": {
        "id": "FvHSvadDJqRY"
      },
      "source": [
        "We can also set a value in a list."
      ]
    },
    {
      "cell_type": "code",
      "metadata": {
        "id": "7coYwgs9JxYi"
      },
      "source": [
        "letters[0] = 'A'"
      ],
      "execution_count": null,
      "outputs": []
    },
    {
      "cell_type": "code",
      "metadata": {
        "id": "0y70jqbqKTIt",
        "colab": {
          "base_uri": "https://localhost:8080/",
          "height": 34
        },
        "outputId": "f044b5d2-18b4-4697-9a68-be7abcfea46b"
      },
      "source": [
        "print(letters)"
      ],
      "execution_count": null,
      "outputs": [
        {
          "output_type": "stream",
          "text": [
            "['A', 'b', 'c', 'd', 'e', 'f']\n"
          ],
          "name": "stdout"
        }
      ]
    },
    {
      "cell_type": "markdown",
      "metadata": {
        "id": "GGtLsYfmEk-0"
      },
      "source": [
        "Lists also have a method that appends values to the end of the list. \n",
        " \n",
        "Note: a method is just like a function, but it is connected to an object like a list."
      ]
    },
    {
      "cell_type": "code",
      "metadata": {
        "id": "X6pP-UnOGhRe"
      },
      "source": [
        "letters.append('g')"
      ],
      "execution_count": null,
      "outputs": []
    },
    {
      "cell_type": "markdown",
      "metadata": {
        "id": "MmTQQhgwGpGO"
      },
      "source": [
        "Every time `letters.append('g')` is called, the letter g is added to the end of the list."
      ]
    },
    {
      "cell_type": "code",
      "metadata": {
        "id": "7ewL4Qs1GmC9",
        "colab": {
          "base_uri": "https://localhost:8080/",
          "height": 34
        },
        "outputId": "89b919ff-3567-49a0-a207-79513e995ba1"
      },
      "source": [
        "print(letters)"
      ],
      "execution_count": null,
      "outputs": [
        {
          "output_type": "stream",
          "text": [
            "['A', 'b', 'c', 'd', 'e', 'f', 'g']\n"
          ],
          "name": "stdout"
        }
      ]
    },
    {
      "cell_type": "markdown",
      "metadata": {
        "id": "qpYTGcLfHCA-"
      },
      "source": [
        "We can also remove the 'g' again by calling `.remove('g')`."
      ]
    },
    {
      "cell_type": "code",
      "metadata": {
        "id": "fN8ZQvHbHJIk"
      },
      "source": [
        "letters.remove('g')"
      ],
      "execution_count": null,
      "outputs": []
    },
    {
      "cell_type": "markdown",
      "metadata": {
        "id": "LNcWXekVHOqF"
      },
      "source": [
        "list.remove removes only the first 'g', so if there were multiple occurrences of it, only the first one would be removed."
      ]
    },
    {
      "cell_type": "code",
      "metadata": {
        "id": "jyKMZpPXHLKf",
        "colab": {
          "base_uri": "https://localhost:8080/",
          "height": 34
        },
        "outputId": "f42b6ef5-ece5-43b3-9e81-c8957e855020"
      },
      "source": [
        "print(letters)"
      ],
      "execution_count": null,
      "outputs": [
        {
          "output_type": "stream",
          "text": [
            "['A', 'b', 'c', 'd', 'e', 'f']\n"
          ],
          "name": "stdout"
        }
      ]
    },
    {
      "cell_type": "markdown",
      "metadata": {
        "id": "CdPXf9ewHzTC"
      },
      "source": [
        "We can also insert the word 'text' into our list at index 3 using `.insert(3, 'text')."
      ]
    },
    {
      "cell_type": "code",
      "metadata": {
        "id": "pWQl2l3QIKZf"
      },
      "source": [
        "letters.insert(3, 'text')"
      ],
      "execution_count": null,
      "outputs": []
    },
    {
      "cell_type": "code",
      "metadata": {
        "id": "kOgc_Ov7INq3",
        "colab": {
          "base_uri": "https://localhost:8080/",
          "height": 34
        },
        "outputId": "cda5e212-793c-4fb9-c11f-fe81942307fa"
      },
      "source": [
        "print(letters)"
      ],
      "execution_count": null,
      "outputs": [
        {
          "output_type": "stream",
          "text": [
            "['A', 'b', 'c', 'text', 'd', 'e', 'f']\n"
          ],
          "name": "stdout"
        }
      ]
    },
    {
      "cell_type": "markdown",
      "metadata": {
        "id": "0-hYROMrIURz"
      },
      "source": [
        "We can also remove it again using `.pop(3)`."
      ]
    },
    {
      "cell_type": "code",
      "metadata": {
        "id": "_j_PihYwIYG2",
        "colab": {
          "base_uri": "https://localhost:8080/",
          "height": 35
        },
        "outputId": "ee2b9c2b-5bca-458d-edbe-c4a4c80d9d56"
      },
      "source": [
        "letters.pop(3)"
      ],
      "execution_count": null,
      "outputs": [
        {
          "output_type": "execute_result",
          "data": {
            "application/vnd.google.colaboratory.intrinsic+json": {
              "type": "string"
            },
            "text/plain": [
              "'text'"
            ]
          },
          "metadata": {
            "tags": []
          },
          "execution_count": 12
        }
      ]
    },
    {
      "cell_type": "code",
      "metadata": {
        "id": "20cDjrdEIadK",
        "colab": {
          "base_uri": "https://localhost:8080/",
          "height": 34
        },
        "outputId": "3d10e7f1-9fd4-4f71-f11d-fc1f5d3c279e"
      },
      "source": [
        "print(letters)"
      ],
      "execution_count": null,
      "outputs": [
        {
          "output_type": "stream",
          "text": [
            "['A', 'b', 'c', 'd', 'e', 'f']\n"
          ],
          "name": "stdout"
        }
      ]
    },
    {
      "cell_type": "markdown",
      "metadata": {
        "id": "E7kdZsTFKvmy"
      },
      "source": [
        "We can also find an element in a list with `index`."
      ]
    },
    {
      "cell_type": "code",
      "metadata": {
        "id": "dcjxV9YMK4vq",
        "colab": {
          "base_uri": "https://localhost:8080/",
          "height": 34
        },
        "outputId": "39c39d58-62d1-48f6-e85c-f8fc07de4783"
      },
      "source": [
        "letters.index('c')"
      ],
      "execution_count": null,
      "outputs": [
        {
          "output_type": "execute_result",
          "data": {
            "text/plain": [
              "2"
            ]
          },
          "metadata": {
            "tags": []
          },
          "execution_count": 14
        }
      ]
    },
    {
      "cell_type": "markdown",
      "metadata": {
        "id": "1qaUKaRpaw3S"
      },
      "source": [
        "The keyword `in` checks if the list contains an element, like:"
      ]
    },
    {
      "cell_type": "code",
      "metadata": {
        "id": "7yD_QwjAa4B6",
        "colab": {
          "base_uri": "https://localhost:8080/",
          "height": 34
        },
        "outputId": "1bf13628-e617-4416-a520-04d2fd3e2ab0"
      },
      "source": [
        "'b' in letters"
      ],
      "execution_count": null,
      "outputs": [
        {
          "output_type": "execute_result",
          "data": {
            "text/plain": [
              "True"
            ]
          },
          "metadata": {
            "tags": []
          },
          "execution_count": 15
        }
      ]
    },
    {
      "cell_type": "markdown",
      "metadata": {
        "id": "NTQ_rc1oa9w5"
      },
      "source": [
        "There is also the inverse, `not in`."
      ]
    },
    {
      "cell_type": "code",
      "metadata": {
        "id": "6c4f4PUfbBfm",
        "colab": {
          "base_uri": "https://localhost:8080/",
          "height": 34
        },
        "outputId": "722e175d-83cc-46b8-dc7b-46bc033cbe54"
      },
      "source": [
        "'b' not in letters"
      ],
      "execution_count": null,
      "outputs": [
        {
          "output_type": "execute_result",
          "data": {
            "text/plain": [
              "False"
            ]
          },
          "metadata": {
            "tags": []
          },
          "execution_count": 16
        }
      ]
    },
    {
      "cell_type": "markdown",
      "metadata": {
        "id": "iEpQq4XBgfzO"
      },
      "source": [
        "To find the length of a list, use `len()`. It is not a method of list, but a function that takes most types that contain multiple values."
      ]
    },
    {
      "cell_type": "code",
      "metadata": {
        "id": "y4yfTEsZg2JV",
        "colab": {
          "base_uri": "https://localhost:8080/",
          "height": 34
        },
        "outputId": "b1790ad5-b2ee-4bbc-ba88-c5482f1c1097"
      },
      "source": [
        "len(letters)"
      ],
      "execution_count": null,
      "outputs": [
        {
          "output_type": "execute_result",
          "data": {
            "text/plain": [
              "6"
            ]
          },
          "metadata": {
            "tags": []
          },
          "execution_count": 17
        }
      ]
    },
    {
      "cell_type": "markdown",
      "metadata": {
        "id": "s69dgxraXulH"
      },
      "source": [
        "To create an empty list, use empty brackets: `[]`  \n",
        "Other sequences can be turned into a list using `list()`."
      ]
    },
    {
      "cell_type": "code",
      "metadata": {
        "id": "gyDq9G3ubbtI",
        "colab": {
          "base_uri": "https://localhost:8080/",
          "height": 34
        },
        "outputId": "210784c9-2dfe-465f-b642-4d088a9eb7c8"
      },
      "source": [
        "list( ('a', 3, 7.0) )"
      ],
      "execution_count": null,
      "outputs": [
        {
          "output_type": "execute_result",
          "data": {
            "text/plain": [
              "['a', 3, 7.0]"
            ]
          },
          "metadata": {
            "tags": []
          },
          "execution_count": 18
        }
      ]
    },
    {
      "cell_type": "markdown",
      "metadata": {
        "id": "ptUGwGeBFx4a"
      },
      "source": [
        "For a full list of the methods of a list, see https://docs.python.org/3/library/stdtypes.html#mutable-sequence-types and https://docs.python.org/3/library/stdtypes.html#typesseq-common.  \n",
        "Lists also have a method called `sort`, which is not mentioned in the linked pages and sorts the list."
      ]
    },
    {
      "cell_type": "markdown",
      "metadata": {
        "id": "LMKzPTJaI7Nu"
      },
      "source": [
        "### Tuple"
      ]
    },
    {
      "cell_type": "markdown",
      "metadata": {
        "id": "LnrUEYbQJeqV"
      },
      "source": [
        "Tuples are like a list, but they are immutable. That means they cannot be changed once created and tuples don't have methods like `append`, `remove`, etc. Tuples are enclosed with parenthesis instead of square brackets."
      ]
    },
    {
      "cell_type": "code",
      "metadata": {
        "id": "YPMH93MBMxWQ",
        "colab": {
          "base_uri": "https://localhost:8080/"
        },
        "outputId": "734a28fc-46d6-480b-8d02-342469310615"
      },
      "source": [
        "(\"this\", \"is\", \"a\", \"tuple\")"
      ],
      "execution_count": null,
      "outputs": [
        {
          "output_type": "execute_result",
          "data": {
            "text/plain": [
              "('this', 'is', 'a', 'tuple')"
            ]
          },
          "metadata": {},
          "execution_count": 84
        }
      ]
    },
    {
      "cell_type": "markdown",
      "metadata": {
        "id": "RK2ovx6dMp2x"
      },
      "source": [
        "Though they may seem like lists but worse, this restriction gives them multiple use cases.  \n",
        "One is that tuples are useful in assigning multiple variables at once, like:"
      ]
    },
    {
      "cell_type": "code",
      "metadata": {
        "id": "W-Q_w96bMNCG",
        "colab": {
          "base_uri": "https://localhost:8080/",
          "height": 51
        },
        "outputId": "742bc24a-557c-4e6e-a209-68d25580439e"
      },
      "source": [
        "a, b = (2, 3)\n",
        "\n",
        "print('a =', a)\n",
        "print('b =', b)"
      ],
      "execution_count": null,
      "outputs": [
        {
          "output_type": "stream",
          "text": [
            "a = 2\n",
            "b = 3\n"
          ],
          "name": "stdout"
        }
      ]
    },
    {
      "cell_type": "markdown",
      "metadata": {
        "id": "5dDGHd6SMX6D"
      },
      "source": [
        "This becomes especially useful when returning values from a function as it allows us to return more than one value."
      ]
    },
    {
      "cell_type": "code",
      "metadata": {
        "id": "wjB89TtXMiS9",
        "colab": {
          "base_uri": "https://localhost:8080/",
          "height": 34
        },
        "outputId": "f4657be8-8a89-41b6-9eee-9325b185aa43"
      },
      "source": [
        "def squareRootBothSigns(x):\n",
        "  root = x ** 0.5\n",
        "  return -root, root\n",
        "\n",
        "squareRootBothSigns(4)"
      ],
      "execution_count": null,
      "outputs": [
        {
          "output_type": "execute_result",
          "data": {
            "text/plain": [
              "(-2.0, 2.0)"
            ]
          },
          "metadata": {
            "tags": []
          },
          "execution_count": 21
        }
      ]
    },
    {
      "cell_type": "markdown",
      "metadata": {
        "id": "n1TS_T1kSOLy"
      },
      "source": [
        "This can be combined with the previous example to create an elegant way of returning multiple values from a function."
      ]
    },
    {
      "cell_type": "code",
      "metadata": {
        "id": "edrB4ASlSYjW",
        "colab": {
          "base_uri": "https://localhost:8080/",
          "height": 51
        },
        "outputId": "6a648498-eddd-4fd1-abc1-b16f10241ccf"
      },
      "source": [
        "minus, plus = squareRootBothSigns(4)\n",
        "\n",
        "print('minus =', minus)\n",
        "print('plus =', plus)"
      ],
      "execution_count": null,
      "outputs": [
        {
          "output_type": "stream",
          "text": [
            "minus = -2.0\n",
            "plus = 2.0\n"
          ],
          "name": "stdout"
        }
      ]
    },
    {
      "cell_type": "markdown",
      "metadata": {
        "id": "3MOcG_yMX6no"
      },
      "source": [
        "To create an empty tuple, use `()`.  \n",
        "\n",
        "Note: As tuples use parenthesis, a single value in a tuple like `(3)` will be evaluated to `3`, as python thinks this is a 3 in parenthesis rather than a tuple. Add a comma at the end when there is only one value to specify that it is a tuple: `(3,)`"
      ]
    },
    {
      "cell_type": "code",
      "metadata": {
        "id": "gtlR5tQfYXEw",
        "colab": {
          "base_uri": "https://localhost:8080/",
          "height": 34
        },
        "outputId": "71c3bfd8-b080-4eed-d386-dd9baa579894"
      },
      "source": [
        "type( (3) )"
      ],
      "execution_count": null,
      "outputs": [
        {
          "output_type": "execute_result",
          "data": {
            "text/plain": [
              "int"
            ]
          },
          "metadata": {
            "tags": []
          },
          "execution_count": 23
        }
      ]
    },
    {
      "cell_type": "code",
      "metadata": {
        "id": "EyfulHJsYgmf",
        "colab": {
          "base_uri": "https://localhost:8080/",
          "height": 34
        },
        "outputId": "c0579020-98c3-48dd-d781-0412b6e3b490"
      },
      "source": [
        "type( (3,) )"
      ],
      "execution_count": null,
      "outputs": [
        {
          "output_type": "execute_result",
          "data": {
            "text/plain": [
              "tuple"
            ]
          },
          "metadata": {
            "tags": []
          },
          "execution_count": 24
        }
      ]
    },
    {
      "cell_type": "markdown",
      "metadata": {
        "id": "VEchbpfkhCFF"
      },
      "source": [
        "`in`, `not in`, and `len()` also work with tuples.\n"
      ]
    },
    {
      "cell_type": "markdown",
      "metadata": {
        "id": "yipZJPrBbk-T"
      },
      "source": [
        "Just like `list()` turns any sequence into a list, `tuple()` makes a tuple out of other sequence types."
      ]
    },
    {
      "cell_type": "code",
      "metadata": {
        "id": "yDWS_XfMb1y4",
        "colab": {
          "base_uri": "https://localhost:8080/",
          "height": 34
        },
        "outputId": "8cea893c-f8db-46bd-ae54-8ed494bd56ac"
      },
      "source": [
        "tuple([1,2,3,4])"
      ],
      "execution_count": null,
      "outputs": [
        {
          "output_type": "execute_result",
          "data": {
            "text/plain": [
              "(1, 2, 3, 4)"
            ]
          },
          "metadata": {
            "tags": []
          },
          "execution_count": 25
        }
      ]
    },
    {
      "cell_type": "markdown",
      "metadata": {
        "id": "ILNcwxTCXP4D"
      },
      "source": [
        "More methods can be found in https://docs.python.org/3/library/stdtypes.html#typesseq-common."
      ]
    },
    {
      "cell_type": "markdown",
      "metadata": {
        "id": "IlCASIf7W86m"
      },
      "source": [
        "### Set"
      ]
    },
    {
      "cell_type": "markdown",
      "metadata": {
        "id": "WqeyOqhkW-_7"
      },
      "source": [
        "The set type is like the one found in discrete mathematics. It cannot contain duplicates and supports standard set operations like union and intersection and checking if a set is a subset of another. They also allow for efficient testing if an object is a member of a set using the keyword `in`."
      ]
    },
    {
      "cell_type": "code",
      "metadata": {
        "id": "PVgJRe-RXeTc"
      },
      "source": [
        "thisIsASet = {1, 2, 3, 4}"
      ],
      "execution_count": null,
      "outputs": []
    },
    {
      "cell_type": "code",
      "metadata": {
        "id": "q0pAK8ziY_jA",
        "colab": {
          "base_uri": "https://localhost:8080/"
        },
        "outputId": "5aa504a3-3dd8-411b-da4d-8aaa90f54625"
      },
      "source": [
        "thisIsASet.union({4, 5, 6})"
      ],
      "execution_count": null,
      "outputs": [
        {
          "output_type": "execute_result",
          "data": {
            "text/plain": [
              "{1, 2, 3, 4, 5, 6}"
            ]
          },
          "metadata": {},
          "execution_count": 2
        }
      ]
    },
    {
      "cell_type": "code",
      "metadata": {
        "id": "1hUA2sjiZF-g",
        "colab": {
          "base_uri": "https://localhost:8080/"
        },
        "outputId": "45d993b8-0d59-4eb3-a476-7da3ef8879ba"
      },
      "source": [
        "thisIsASet.difference({2, 4, 6, 8, 10})"
      ],
      "execution_count": null,
      "outputs": [
        {
          "output_type": "execute_result",
          "data": {
            "text/plain": [
              "{1, 3}"
            ]
          },
          "metadata": {},
          "execution_count": 3
        }
      ]
    },
    {
      "cell_type": "code",
      "metadata": {
        "id": "PpnH6yMpZRmP",
        "colab": {
          "base_uri": "https://localhost:8080/"
        },
        "outputId": "55eb746b-7b8b-44d3-e221-9c6eaf3a2aba"
      },
      "source": [
        "thisIsASet.issuperset({2, 4})"
      ],
      "execution_count": null,
      "outputs": [
        {
          "output_type": "execute_result",
          "data": {
            "text/plain": [
              "True"
            ]
          },
          "metadata": {},
          "execution_count": 4
        }
      ]
    },
    {
      "cell_type": "markdown",
      "metadata": {
        "id": "Ezx7ia7QYt16"
      },
      "source": [
        "Sets do not support indexing so `thisIsASet[3]` will be an error."
      ]
    },
    {
      "cell_type": "markdown",
      "metadata": {
        "id": "h2FF4X9CaEGZ"
      },
      "source": [
        "Sets also support adding and removing elements like a list does using `add` and `remove`, where `add` is like `append`. "
      ]
    },
    {
      "cell_type": "markdown",
      "metadata": {
        "id": "r07KVlXGcTK4"
      },
      "source": [
        "To create an empty set, use `set()` with no arguments instead of `{}` as that is already used for the `dict` type, which will be covered next."
      ]
    },
    {
      "cell_type": "code",
      "metadata": {
        "id": "NfoFBx6KcgnL",
        "colab": {
          "base_uri": "https://localhost:8080/"
        },
        "outputId": "dd5e9abc-7d01-4f35-d9e1-7dedc11b76c0"
      },
      "source": [
        "type({})"
      ],
      "execution_count": null,
      "outputs": [
        {
          "output_type": "execute_result",
          "data": {
            "text/plain": [
              "dict"
            ]
          },
          "metadata": {},
          "execution_count": 5
        }
      ]
    },
    {
      "cell_type": "code",
      "metadata": {
        "id": "wmXxNMY3chs7",
        "colab": {
          "base_uri": "https://localhost:8080/"
        },
        "outputId": "cacc870c-d188-4c72-da69-63a2cbc48118"
      },
      "source": [
        "type(set())"
      ],
      "execution_count": null,
      "outputs": [
        {
          "output_type": "execute_result",
          "data": {
            "text/plain": [
              "set"
            ]
          },
          "metadata": {},
          "execution_count": 6
        }
      ]
    },
    {
      "cell_type": "markdown",
      "metadata": {
        "id": "OSr8vgi1hLp8"
      },
      "source": [
        "`in`, `not in`, and `len()` also work with sets. Using `in` with sets is much more efficient than with lists."
      ]
    },
    {
      "cell_type": "markdown",
      "metadata": {
        "id": "WLMU1hiWb-5P"
      },
      "source": [
        "For converting to a set, use `set()`. This is also a way of filtering out repeated values."
      ]
    },
    {
      "cell_type": "code",
      "metadata": {
        "id": "-cjGAxVZcJR8",
        "colab": {
          "base_uri": "https://localhost:8080/"
        },
        "outputId": "5373d66b-5e5b-4953-93fe-d57d898d8184"
      },
      "source": [
        "set([1, 3, 5, 7, 5, 3])"
      ],
      "execution_count": null,
      "outputs": [
        {
          "output_type": "execute_result",
          "data": {
            "text/plain": [
              "{1, 3, 5, 7}"
            ]
          },
          "metadata": {},
          "execution_count": 7
        }
      ]
    },
    {
      "cell_type": "markdown",
      "metadata": {
        "id": "WkYMnpFiYqmn"
      },
      "source": [
        "See https://docs.python.org/3/library/stdtypes.html#set for all methods."
      ]
    },
    {
      "cell_type": "markdown",
      "metadata": {
        "id": "E3E9j9WXckwc"
      },
      "source": [
        "### Dictionaries"
      ]
    },
    {
      "cell_type": "markdown",
      "metadata": {
        "id": "1OfqNiUtcm1Y"
      },
      "source": [
        "The dictionary, type `dict`, is a different data structure in that instead of being a list of values, it stores key-value pairs. Indexing is thus done by the key instead of by the numeric index."
      ]
    },
    {
      "cell_type": "code",
      "metadata": {
        "id": "wEvqV4agc7-7"
      },
      "source": [
        "data = { 'a': 1, 'b': 2, 'c': 3 }"
      ],
      "execution_count": null,
      "outputs": []
    },
    {
      "cell_type": "markdown",
      "metadata": {
        "id": "OHs2i4FqdYYp"
      },
      "source": [
        "Each key-value pair is separated by a comma, and a colon separates the key from the value. Keys are on the left, values on the right.  \n",
        "Indexing is done using the key."
      ]
    },
    {
      "cell_type": "code",
      "metadata": {
        "id": "z5aZLiVldpMn",
        "colab": {
          "base_uri": "https://localhost:8080/"
        },
        "outputId": "a3a74246-1c33-4fb9-a8fd-bc8984bd84f0"
      },
      "source": [
        "data['b']"
      ],
      "execution_count": null,
      "outputs": [
        {
          "output_type": "execute_result",
          "data": {
            "text/plain": [
              "2"
            ]
          },
          "metadata": {},
          "execution_count": 57
        }
      ]
    },
    {
      "cell_type": "markdown",
      "metadata": {
        "id": "bRhkobvWdxDJ"
      },
      "source": [
        "Values can also be set with a key."
      ]
    },
    {
      "cell_type": "code",
      "metadata": {
        "id": "fgtfiS5vd0gx"
      },
      "source": [
        "data['b'] = -2"
      ],
      "execution_count": null,
      "outputs": []
    },
    {
      "cell_type": "markdown",
      "metadata": {
        "id": "sqjn8JHBd37A"
      },
      "source": [
        "New key-value pairs can be added using the same syntax."
      ]
    },
    {
      "cell_type": "code",
      "metadata": {
        "id": "pviLgGwed9i7"
      },
      "source": [
        "data['d'] = 4"
      ],
      "execution_count": null,
      "outputs": []
    },
    {
      "cell_type": "markdown",
      "metadata": {
        "id": "Ytc3gdENeOZe"
      },
      "source": [
        "The `in` operator checks for the presence of keys, not values. This allows us to check if a key exists before indexing with it to avoid an error."
      ]
    },
    {
      "cell_type": "code",
      "metadata": {
        "id": "T7sxS3U-eXRb",
        "colab": {
          "base_uri": "https://localhost:8080/"
        },
        "outputId": "eac69a45-589b-4de3-a363-30a478a08a7d"
      },
      "source": [
        "'c' in data"
      ],
      "execution_count": null,
      "outputs": [
        {
          "output_type": "execute_result",
          "data": {
            "text/plain": [
              "True"
            ]
          },
          "metadata": {},
          "execution_count": 60
        }
      ]
    },
    {
      "cell_type": "code",
      "metadata": {
        "id": "CM7Zv3bfeaWc",
        "colab": {
          "base_uri": "https://localhost:8080/"
        },
        "outputId": "133eb700-3628-4cfe-ae84-cbd3ece8b4e1"
      },
      "source": [
        "3 in data"
      ],
      "execution_count": null,
      "outputs": [
        {
          "output_type": "execute_result",
          "data": {
            "text/plain": [
              "False"
            ]
          },
          "metadata": {},
          "execution_count": 61
        }
      ]
    },
    {
      "cell_type": "code",
      "metadata": {
        "id": "3ZmS1MCnec5D",
        "colab": {
          "base_uri": "https://localhost:8080/"
        },
        "outputId": "0709c8ef-4ca7-4d93-c752-2dbab0e22e95"
      },
      "source": [
        "if 'e' in data:\n",
        "  print(data['e'])\n",
        "else:\n",
        "  print('No value for e')"
      ],
      "execution_count": null,
      "outputs": [
        {
          "output_type": "stream",
          "text": [
            "No value for e\n"
          ],
          "name": "stdout"
        }
      ]
    },
    {
      "cell_type": "markdown",
      "metadata": {
        "id": "ooHFW8eNhf8F"
      },
      "source": [
        "`in`, `not in`, and `len()` also work with dictionaries."
      ]
    },
    {
      "cell_type": "markdown",
      "metadata": {
        "id": "ZAqiLms3ewx5"
      },
      "source": [
        "Create empty dictionaries using `{}`.  \n",
        "As dictionaries store pairs instead of values, using `dict()` to covert another list-like type to dict requires the given list to contain key-value pairs, like `[[\"student A\", 100], [\"student B\", 95], [\"student C\", 90]]`. "
      ]
    },
    {
      "cell_type": "code",
      "metadata": {
        "id": "ZrLtulhmfFFz",
        "colab": {
          "base_uri": "https://localhost:8080/"
        },
        "outputId": "bd8bfa6a-b9a7-4812-ef17-395523cc0472"
      },
      "source": [
        "dict([['first', 1], ['second', 2]])"
      ],
      "execution_count": null,
      "outputs": [
        {
          "output_type": "execute_result",
          "data": {
            "text/plain": [
              "{'first': 1, 'second': 2}"
            ]
          },
          "metadata": {},
          "execution_count": 63
        }
      ]
    },
    {
      "cell_type": "markdown",
      "metadata": {
        "id": "Dbio7ce8eluu"
      },
      "source": [
        "A list of methods can be found at https://docs.python.org/3/library/stdtypes.html#dict."
      ]
    },
    {
      "cell_type": "markdown",
      "metadata": {
        "id": "P0psA6FDtymI"
      },
      "source": [
        "### Standard Functions For List-like Types"
      ]
    },
    {
      "cell_type": "markdown",
      "metadata": {
        "id": "TGUb3lPck7pV"
      },
      "source": [
        "These functions will work on anything list-like, including `list`, `tuple`, `set`, and `dict`. In technical terms, anything that is an iterator or is iterable is accepted by these functions. `len()` may not work with iterators, however."
      ]
    },
    {
      "cell_type": "markdown",
      "metadata": {
        "id": "VLmlnP-jB7rm"
      },
      "source": [
        "`sum()` will return the sum of the list."
      ]
    },
    {
      "cell_type": "code",
      "metadata": {
        "id": "QdnAZvjJjrua",
        "colab": {
          "base_uri": "https://localhost:8080/"
        },
        "outputId": "68d7cbff-f089-47aa-d9d7-9cec5f2f13e4"
      },
      "source": [
        "sum([1,2,3,4])"
      ],
      "execution_count": null,
      "outputs": [
        {
          "output_type": "execute_result",
          "data": {
            "text/plain": [
              "10"
            ]
          },
          "metadata": {},
          "execution_count": 72
        }
      ]
    },
    {
      "cell_type": "markdown",
      "metadata": {
        "id": "VUxepF3LjuG7"
      },
      "source": [
        "`max()` and `min()` return the largest and smallest value, respectively."
      ]
    },
    {
      "cell_type": "code",
      "metadata": {
        "id": "Kh5LEfuRj2B-",
        "colab": {
          "base_uri": "https://localhost:8080/"
        },
        "outputId": "e3db826d-351e-41b9-fafa-8d2d1c01178c"
      },
      "source": [
        "max([1, 2, 3, 4])"
      ],
      "execution_count": null,
      "outputs": [
        {
          "output_type": "execute_result",
          "data": {
            "text/plain": [
              "4"
            ]
          },
          "metadata": {},
          "execution_count": 73
        }
      ]
    },
    {
      "cell_type": "code",
      "metadata": {
        "id": "ssmd4Qp6j5sX",
        "colab": {
          "base_uri": "https://localhost:8080/"
        },
        "outputId": "f1da0ae9-5664-4ed3-ac25-feda40b8514c"
      },
      "source": [
        "min([1, 2, 3, 4])"
      ],
      "execution_count": null,
      "outputs": [
        {
          "output_type": "execute_result",
          "data": {
            "text/plain": [
              "1"
            ]
          },
          "metadata": {},
          "execution_count": 74
        }
      ]
    },
    {
      "cell_type": "markdown",
      "metadata": {
        "id": "r2FZswUbj9BQ"
      },
      "source": [
        "`len()` returns the length."
      ]
    },
    {
      "cell_type": "code",
      "metadata": {
        "id": "6wL96CdTkAN9",
        "colab": {
          "base_uri": "https://localhost:8080/"
        },
        "outputId": "1ac45a27-1af6-4691-9be1-6734153e1f88"
      },
      "source": [
        "len([1, 2, 3, 4])"
      ],
      "execution_count": null,
      "outputs": [
        {
          "output_type": "execute_result",
          "data": {
            "text/plain": [
              "4"
            ]
          },
          "metadata": {},
          "execution_count": 75
        }
      ]
    },
    {
      "cell_type": "markdown",
      "metadata": {
        "id": "rB65vWs5kRKt"
      },
      "source": [
        "`sorted()` returns it in order."
      ]
    },
    {
      "cell_type": "code",
      "metadata": {
        "id": "kmaBuV7VkU6T",
        "colab": {
          "base_uri": "https://localhost:8080/"
        },
        "outputId": "fd4650b8-9023-453b-e5c2-82082b744837"
      },
      "source": [
        "sorted([4, 1, 3, 2])"
      ],
      "execution_count": null,
      "outputs": [
        {
          "output_type": "execute_result",
          "data": {
            "text/plain": [
              "[1, 2, 3, 4]"
            ]
          },
          "metadata": {},
          "execution_count": 76
        }
      ]
    },
    {
      "cell_type": "markdown",
      "metadata": {
        "id": "-KjsdzZWkYsg"
      },
      "source": [
        "`reversed()` returns it in reverse order. However, it returns it as something known as an iterator, so use `list()` to turn that into a list. We could also use `tuple()` or `set()` in these cases."
      ]
    },
    {
      "cell_type": "code",
      "metadata": {
        "id": "4MJBo4O0kcFP",
        "colab": {
          "base_uri": "https://localhost:8080/"
        },
        "outputId": "7064faa0-326c-417f-e527-cb1453c7fccb"
      },
      "source": [
        "list(reversed([1, 2, 3, 4]))"
      ],
      "execution_count": null,
      "outputs": [
        {
          "output_type": "execute_result",
          "data": {
            "text/plain": [
              "[4, 3, 2, 1]"
            ]
          },
          "metadata": {},
          "execution_count": 77
        }
      ]
    },
    {
      "cell_type": "markdown",
      "metadata": {
        "id": "ZBD8onrJk1Eh"
      },
      "source": [
        "\n",
        "`filter()` filters a list based on the result of a function. It keeps it if the function returns true. There will be more explanation of comparisons and the `bool` type in the control flow segment.  \n",
        "The first argument of filter is a function and the second the list.  \n",
        "`filter` also returns an iterator, so use `list()` on it as well."
      ]
    },
    {
      "cell_type": "code",
      "metadata": {
        "id": "Ln6fmIPVmWcO",
        "colab": {
          "base_uri": "https://localhost:8080/"
        },
        "outputId": "74a41bf4-19c4-4e64-ca29-9a5a268c0186"
      },
      "source": [
        "def isPositive(x):\n",
        "  return x > 0\n",
        "\n",
        "list(filter(isPositive, [-2, -1, 0, 1, 2]))"
      ],
      "execution_count": null,
      "outputs": [
        {
          "output_type": "execute_result",
          "data": {
            "text/plain": [
              "[1, 2]"
            ]
          },
          "metadata": {},
          "execution_count": 78
        }
      ]
    },
    {
      "cell_type": "markdown",
      "metadata": {
        "id": "kYVwPJyRm8Vs"
      },
      "source": [
        "`map()` runs a function on every value of a given list and returns the result in a new list. Like filter, its first argument is a function and the second is the list. It also returns an iterator, so use `list()` on it."
      ]
    },
    {
      "cell_type": "code",
      "metadata": {
        "id": "aRsaY0kCnLnt",
        "colab": {
          "base_uri": "https://localhost:8080/"
        },
        "outputId": "960162d0-1510-4bfd-99c0-3e818a7e0cc8"
      },
      "source": [
        "def square(x):\n",
        "  return x * x\n",
        "\n",
        "list(map(square, [1, 2, 3, 4]))"
      ],
      "execution_count": null,
      "outputs": [
        {
          "output_type": "execute_result",
          "data": {
            "text/plain": [
              "[1, 4, 9, 16]"
            ]
          },
          "metadata": {},
          "execution_count": 79
        }
      ]
    },
    {
      "cell_type": "markdown",
      "metadata": {
        "id": "ttCfwpAVoXKv"
      },
      "source": [
        "## Control Flow"
      ]
    },
    {
      "cell_type": "markdown",
      "metadata": {
        "id": "_u-cmbPzobHo"
      },
      "source": [
        "So far we can only do the same calculation every time, which doesn't make this better than a calculator. The next part is control flow, where we can make the program do different things based on the data we have.  \n"
      ]
    },
    {
      "cell_type": "markdown",
      "metadata": {
        "id": "GHEHdYZro-68"
      },
      "source": [
        "### The If Statement & Boolean Logic"
      ]
    },
    {
      "cell_type": "markdown",
      "metadata": {
        "id": "4a809hHcpGpq"
      },
      "source": [
        "If we want a certain piece of code to only run when a condition is met, we can use the if statement"
      ]
    },
    {
      "cell_type": "code",
      "metadata": {
        "id": "1Zf0Fm4KpRto",
        "colab": {
          "base_uri": "https://localhost:8080/"
        },
        "outputId": "1def4b65-1eaa-42a3-c0dd-9376ad1c1f90"
      },
      "source": [
        "n = 3\n",
        "\n",
        "if n > 0:\n",
        "  print(\"Positive\")"
      ],
      "execution_count": null,
      "outputs": [
        {
          "output_type": "stream",
          "text": [
            "Positive\n"
          ],
          "name": "stdout"
        }
      ]
    },
    {
      "cell_type": "markdown",
      "metadata": {
        "id": "pYtfVrqYpct3"
      },
      "source": [
        "The syntax of the if statement is:\n",
        "```\n",
        "if condition:\n",
        "  code\n",
        "```\n",
        "The condition can be anything and will be evaluated to either true or false.\n",
        "\n",
        "True or False has its own type, which is bool. The constants for true is `True` and for false is `False` in python. "
      ]
    },
    {
      "cell_type": "code",
      "metadata": {
        "id": "2uvZaDjwrvhe",
        "colab": {
          "base_uri": "https://localhost:8080/"
        },
        "outputId": "ecced39e-b576-4192-f66d-cc3e817d90aa"
      },
      "source": [
        "if True:\n",
        "  print(\"This print statement always runs\")\n",
        "\n",
        "if False:\n",
        "  print(\"This print statement never runs\")"
      ],
      "execution_count": null,
      "outputs": [
        {
          "output_type": "stream",
          "text": [
            "This print statement always runs\n"
          ],
          "name": "stdout"
        }
      ]
    },
    {
      "cell_type": "markdown",
      "metadata": {
        "id": "H64UdIYNr6ZU"
      },
      "source": [
        "We can compare numbers as a condition, like `n > 0` in the first if example.\n",
        "The valid comparisons are:\n",
        "- greater than: `>`\n",
        "- less than: `<`\n",
        "- greater than or equal: `>=`\n",
        "- less than or equal: `<=`\n",
        "- equal to: `==`\n",
        "- not equal: `!=`\n",
        "\n",
        "Note: Notice that two equal signs `==` will check if the values are equal, while a single equal sign `=` will assign a variable.\n",
        "\n"
      ]
    },
    {
      "cell_type": "code",
      "metadata": {
        "id": "VuHtYY4ctla1",
        "colab": {
          "base_uri": "https://localhost:8080/"
        },
        "outputId": "3bb5a000-48ff-4614-f919-81c0ba55f077"
      },
      "source": [
        "4 == 3"
      ],
      "execution_count": null,
      "outputs": [
        {
          "output_type": "execute_result",
          "data": {
            "text/plain": [
              "False"
            ]
          },
          "metadata": {},
          "execution_count": 87
        }
      ]
    },
    {
      "cell_type": "code",
      "metadata": {
        "id": "W1S0lHxEtrFW",
        "colab": {
          "base_uri": "https://localhost:8080/"
        },
        "outputId": "0af2f39f-b671-4a08-e011-05fc6ab66b59"
      },
      "source": [
        "9 <= 9"
      ],
      "execution_count": null,
      "outputs": [
        {
          "output_type": "execute_result",
          "data": {
            "text/plain": [
              "True"
            ]
          },
          "metadata": {},
          "execution_count": 88
        }
      ]
    },
    {
      "cell_type": "code",
      "metadata": {
        "id": "rctt1ePLts0S",
        "colab": {
          "base_uri": "https://localhost:8080/"
        },
        "outputId": "ab3d0865-8553-43ca-ae8c-dcf1cecb57e2"
      },
      "source": [
        "9 < 9"
      ],
      "execution_count": null,
      "outputs": [
        {
          "output_type": "execute_result",
          "data": {
            "text/plain": [
              "False"
            ]
          },
          "metadata": {},
          "execution_count": 89
        }
      ]
    },
    {
      "cell_type": "markdown",
      "metadata": {
        "id": "4xKvGJGTt1Zp"
      },
      "source": [
        "Note: I mentioned before that floating-point numbers are not precise, so `==` might not consider numbers to be the same that we consider the same due to rounding errors.  \n",
        "For example:"
      ]
    },
    {
      "cell_type": "code",
      "metadata": {
        "id": "ndpGVcy8t93b",
        "colab": {
          "base_uri": "https://localhost:8080/"
        },
        "outputId": "997c6d18-4199-4728-df92-82102c2a353f"
      },
      "source": [
        "0.1 + 0.2 == 0.3"
      ],
      "execution_count": null,
      "outputs": [
        {
          "output_type": "execute_result",
          "data": {
            "text/plain": [
              "False"
            ]
          },
          "metadata": {},
          "execution_count": 90
        }
      ]
    },
    {
      "cell_type": "markdown",
      "metadata": {
        "id": "WDr6iGabuILp"
      },
      "source": [
        "In this case, it is because the addition of `0.1 + 0.2` produces rounding errors, making it `0.30000000000000004`. So it does not equal `0.3`."
      ]
    },
    {
      "cell_type": "code",
      "metadata": {
        "id": "xRp9_YZXuGy1",
        "colab": {
          "base_uri": "https://localhost:8080/"
        },
        "outputId": "3a58dd51-8ed7-42c9-ffb0-ecc266825521"
      },
      "source": [
        "0.1 + 0.2"
      ],
      "execution_count": null,
      "outputs": [
        {
          "output_type": "execute_result",
          "data": {
            "text/plain": [
              "0.30000000000000004"
            ]
          },
          "metadata": {},
          "execution_count": 91
        }
      ]
    },
    {
      "cell_type": "markdown",
      "metadata": {
        "id": "XZ32W-vPua3k"
      },
      "source": [
        "The way to get around this is to check if the absolute value of the difference between the two numbers is a very small number, like:"
      ]
    },
    {
      "cell_type": "code",
      "metadata": {
        "id": "vhKYd7cSuhQV",
        "colab": {
          "base_uri": "https://localhost:8080/"
        },
        "outputId": "69e88c3c-6594-42fd-c35d-b8480bafa0a2"
      },
      "source": [
        "(0.1 + 0.2) - 0.3"
      ],
      "execution_count": null,
      "outputs": [
        {
          "output_type": "execute_result",
          "data": {
            "text/plain": [
              "5.551115123125783e-17"
            ]
          },
          "metadata": {},
          "execution_count": 92
        }
      ]
    },
    {
      "cell_type": "code",
      "metadata": {
        "id": "INa3COTWuyGc",
        "colab": {
          "base_uri": "https://localhost:8080/"
        },
        "outputId": "81505ed9-911c-4fa2-c3cc-29f796648576"
      },
      "source": [
        "abs( (0.1 + 0.2) - 0.3 ) < 0.000001"
      ],
      "execution_count": null,
      "outputs": [
        {
          "output_type": "execute_result",
          "data": {
            "text/plain": [
              "True"
            ]
          },
          "metadata": {},
          "execution_count": 93
        }
      ]
    },
    {
      "cell_type": "markdown",
      "metadata": {
        "id": "r2H2q-Y7u59J"
      },
      "source": [
        "abs() is a built-in function in python that returns the absolute value."
      ]
    },
    {
      "cell_type": "markdown",
      "metadata": {
        "id": "gi6sJcCpvEyR"
      },
      "source": [
        "booleans can also form more complex logic using the logical operators `and`, `or`, and `not`. For example, if we wanted to know if both x and y are positive, we could say:"
      ]
    },
    {
      "cell_type": "code",
      "metadata": {
        "id": "Vm40G8Vw2hhU",
        "colab": {
          "base_uri": "https://localhost:8080/"
        },
        "outputId": "be925171-a490-4819-fa3e-eab94962b94f"
      },
      "source": [
        "x = 4\n",
        "y = 1\n",
        "\n",
        "if x > 0 and y > 0:\n",
        "  print(\"Both are postive\")"
      ],
      "execution_count": null,
      "outputs": [
        {
          "output_type": "stream",
          "text": [
            "Both are postive\n"
          ],
          "name": "stdout"
        }
      ]
    },
    {
      "cell_type": "markdown",
      "metadata": {
        "id": "QA13uyZL3T6u"
      },
      "source": [
        "More examples:"
      ]
    },
    {
      "cell_type": "code",
      "metadata": {
        "id": "LiL03xLx3PFw",
        "colab": {
          "base_uri": "https://localhost:8080/"
        },
        "outputId": "9c5f2c95-2afd-4488-92b8-b01b003c703e"
      },
      "source": [
        "not x < 0"
      ],
      "execution_count": null,
      "outputs": [
        {
          "output_type": "execute_result",
          "data": {
            "text/plain": [
              "True"
            ]
          },
          "metadata": {},
          "execution_count": 95
        }
      ]
    },
    {
      "cell_type": "code",
      "metadata": {
        "id": "eIt-hkM93V60",
        "colab": {
          "base_uri": "https://localhost:8080/"
        },
        "outputId": "e680e26c-94b5-42ba-e6b4-3edcf42bd792"
      },
      "source": [
        "x < 0 or y < 0"
      ],
      "execution_count": null,
      "outputs": [
        {
          "output_type": "execute_result",
          "data": {
            "text/plain": [
              "False"
            ]
          },
          "metadata": {},
          "execution_count": 96
        }
      ]
    },
    {
      "cell_type": "code",
      "metadata": {
        "id": "Q3-WR6BG3aCl",
        "colab": {
          "base_uri": "https://localhost:8080/"
        },
        "outputId": "9b873c82-cd82-4ba6-9e20-207becf57ddb"
      },
      "source": [
        "x > 0 and (y < 0 or y > 10)"
      ],
      "execution_count": null,
      "outputs": [
        {
          "output_type": "execute_result",
          "data": {
            "text/plain": [
              "False"
            ]
          },
          "metadata": {},
          "execution_count": 97
        }
      ]
    },
    {
      "cell_type": "markdown",
      "metadata": {
        "id": "8EnF5zMQXZWZ"
      },
      "source": [
        "`None`, when used as the condition of an if-statement, is considered False. We can explicitly check for `None` by checking if it equals None."
      ]
    },
    {
      "cell_type": "code",
      "metadata": {
        "id": "FBclv_tXXtEn"
      },
      "source": [
        "if None:\n",
        "  print(\"This will never run\")"
      ],
      "execution_count": null,
      "outputs": []
    },
    {
      "cell_type": "code",
      "metadata": {
        "id": "vAjo7WcMXzn7",
        "colab": {
          "base_uri": "https://localhost:8080/"
        },
        "outputId": "80a8506f-a72d-42e2-ce96-7785e4e3f9f4"
      },
      "source": [
        "a = None\n",
        "if a == None:\n",
        "  print(\"a is None\")"
      ],
      "execution_count": null,
      "outputs": [
        {
          "output_type": "stream",
          "text": [
            "a is None\n"
          ],
          "name": "stdout"
        }
      ]
    },
    {
      "cell_type": "markdown",
      "metadata": {
        "id": "cKcKom-93tF5"
      },
      "source": [
        "### The If-Else Statement"
      ]
    },
    {
      "cell_type": "markdown",
      "metadata": {
        "id": "9nK3ZD663u84"
      },
      "source": [
        "If the condition in the if statement is false, the code inside the if statement is skipped. If we however wanted other code to run in the case of the condition being false, we can use `else`."
      ]
    },
    {
      "cell_type": "code",
      "metadata": {
        "id": "BMK_RE834EL8",
        "colab": {
          "base_uri": "https://localhost:8080/"
        },
        "outputId": "c4a3af9f-012d-4ab5-d16c-1d032fc324d7"
      },
      "source": [
        "n = -3\n",
        "\n",
        "if n > 0:\n",
        "  print(\"N is positive\")\n",
        "else:\n",
        "  print(\"N is negative\")"
      ],
      "execution_count": null,
      "outputs": [
        {
          "output_type": "stream",
          "text": [
            "N is negative\n"
          ],
          "name": "stdout"
        }
      ]
    },
    {
      "cell_type": "markdown",
      "metadata": {
        "id": "NrDtqyMM4VUx"
      },
      "source": [
        "The case above is not entirely correct as it would label 0 as a negative number. So we need another if statement inside of else to check for this third possible condition."
      ]
    },
    {
      "cell_type": "code",
      "metadata": {
        "id": "UCtoXwji4zBd",
        "colab": {
          "base_uri": "https://localhost:8080/"
        },
        "outputId": "e0b4a555-dc1b-45b0-804f-d74318e6aec6"
      },
      "source": [
        "n = 0\n",
        "\n",
        "if n > 0:\n",
        "  print(\"N is positive\")\n",
        "else:\n",
        "  if n == 0:\n",
        "    print(\"N is zero\")\n",
        "  else:\n",
        "    print(\"N is negative\")"
      ],
      "execution_count": null,
      "outputs": [
        {
          "output_type": "stream",
          "text": [
            "N is zero\n"
          ],
          "name": "stdout"
        }
      ]
    },
    {
      "cell_type": "markdown",
      "metadata": {
        "id": "EvUrsp2y4-Ou"
      },
      "source": [
        "Because logic like the one above is quite common, there is a special keyword for it that combines the `else` and the inner `if`. The `elif` is like an `if` statement, but it is only run if the preceding `if` statement's condition is false."
      ]
    },
    {
      "cell_type": "code",
      "metadata": {
        "id": "Jy0thagy5XSu",
        "colab": {
          "base_uri": "https://localhost:8080/"
        },
        "outputId": "5c070926-74c7-4bca-f2b7-23a4cf18e214"
      },
      "source": [
        "n = 0\n",
        "\n",
        "if n > 0:\n",
        "  print(\"N is positive\")\n",
        "elif n == 0:\n",
        "  print(\"N is zero\")\n",
        "else:\n",
        "  print(\"N is negative\")"
      ],
      "execution_count": null,
      "outputs": [
        {
          "output_type": "stream",
          "text": [
            "N is zero\n"
          ],
          "name": "stdout"
        }
      ]
    },
    {
      "cell_type": "markdown",
      "metadata": {
        "id": "ANSkC4oc5iEI"
      },
      "source": [
        "`elif` can be repeated as many times as you like."
      ]
    },
    {
      "cell_type": "code",
      "metadata": {
        "id": "2-M7oq1U5p8y",
        "colab": {
          "base_uri": "https://localhost:8080/"
        },
        "outputId": "d72e2abf-2e3c-4b3d-b017-e31a46cb0122"
      },
      "source": [
        "n = 3\n",
        "\n",
        "if n == 0:\n",
        "  print(\"N is zero\")\n",
        "elif n == 1:\n",
        "  print(\"N is one\")\n",
        "elif n == 2:\n",
        "  print(\"N is two\")\n",
        "elif n == 3:\n",
        "  print(\"N is three\")\n",
        "else:\n",
        "  print(\"N is not 0, 1, 2, or 3\")"
      ],
      "execution_count": null,
      "outputs": [
        {
          "output_type": "stream",
          "text": [
            "N is three\n"
          ],
          "name": "stdout"
        }
      ]
    },
    {
      "cell_type": "markdown",
      "metadata": {
        "id": "L3jHAIkX6L0R"
      },
      "source": [
        "We can combine comparisons with functions:"
      ]
    },
    {
      "cell_type": "code",
      "metadata": {
        "id": "Lps06i8X7qPy",
        "colab": {
          "base_uri": "https://localhost:8080/"
        },
        "outputId": "a4010388-8248-4a7f-8037-b816408992fd"
      },
      "source": [
        "def isEven(n):\n",
        "  return n % 2 == 0\n",
        "\n",
        "isEven(5)"
      ],
      "execution_count": null,
      "outputs": [
        {
          "output_type": "execute_result",
          "data": {
            "text/plain": [
              "False"
            ]
          },
          "metadata": {},
          "execution_count": 104
        }
      ]
    },
    {
      "cell_type": "markdown",
      "metadata": {
        "id": "On66izxq7wpe"
      },
      "source": [
        "As every even number can be divided by 2, the remainder for any even number divided by 2 must be zero."
      ]
    },
    {
      "cell_type": "markdown",
      "metadata": {
        "id": "1MGjDSl68AxW"
      },
      "source": [
        "We can then use functions as the condition in an `if` statement."
      ]
    },
    {
      "cell_type": "code",
      "metadata": {
        "id": "FkQjFEcU8F6D",
        "colab": {
          "base_uri": "https://localhost:8080/"
        },
        "outputId": "a06e0537-e579-4b7b-c756-e171447521a5"
      },
      "source": [
        "x = 4\n",
        "y = 10\n",
        "\n",
        "if isEven(x) and isEven(y):\n",
        "  print(\"X and Y are both even\")"
      ],
      "execution_count": null,
      "outputs": [
        {
          "output_type": "stream",
          "text": [
            "X and Y are both even\n"
          ],
          "name": "stdout"
        }
      ]
    },
    {
      "cell_type": "markdown",
      "metadata": {
        "id": "iRhMWuRY8W_E"
      },
      "source": [
        "We can also use the `if` statement to write piecewise functions or recursive functions as seen in mathematics."
      ]
    },
    {
      "cell_type": "code",
      "metadata": {
        "id": "DGaH7_hFm-pj"
      },
      "source": [
        "def rampFunction(x):\n",
        "  if x < 0:\n",
        "    return 0\n",
        "  else:\n",
        "    return x"
      ],
      "execution_count": null,
      "outputs": []
    },
    {
      "cell_type": "code",
      "metadata": {
        "id": "cX4K7pYM8qSt",
        "colab": {
          "base_uri": "https://localhost:8080/"
        },
        "outputId": "aa4c1578-33be-499e-bb38-30808c32bfbe"
      },
      "source": [
        "def factorial(n):\n",
        "  if n < 0:\n",
        "    print(\"n must be greater than or equal to 0\")\n",
        "    \n",
        "  elif n == 0 or n == 1:\n",
        "    return 1\n",
        "  else:\n",
        "    return factorial(n - 1) * n\n",
        "\n",
        "\n",
        "factorial(6)"
      ],
      "execution_count": null,
      "outputs": [
        {
          "output_type": "execute_result",
          "data": {
            "text/plain": [
              "720"
            ]
          },
          "metadata": {},
          "execution_count": 107
        }
      ]
    },
    {
      "cell_type": "markdown",
      "metadata": {
        "id": "7a4EoXGU9XLV"
      },
      "source": [
        "### The While Loop"
      ]
    },
    {
      "cell_type": "markdown",
      "metadata": {
        "id": "CChe5Uys9vqn"
      },
      "source": [
        "Sometimes we want to run code many times until some condition is met. For example, in the last example about if and else, I gave an example of a function that calculates factorial. If we instead wanted to write it without recursion, which is a function calling itself, we can use a `while` loop instead."
      ]
    },
    {
      "cell_type": "code",
      "metadata": {
        "id": "wFJ7sj1Y-sW-",
        "colab": {
          "base_uri": "https://localhost:8080/"
        },
        "outputId": "3d18d577-1e50-4cfa-e009-9411de1e3edd"
      },
      "source": [
        "def factorial(n):\n",
        "  if n < 0:\n",
        "    print(\"n must be greater than or equal to 0\")\n",
        "  \n",
        "\n",
        "  result = 1\n",
        "  while n > 0:\n",
        "    result = result * n\n",
        "    n = n - 1\n",
        "  \n",
        "  return result\n",
        "\n",
        "factorial(6)"
      ],
      "execution_count": null,
      "outputs": [
        {
          "output_type": "execute_result",
          "data": {
            "text/plain": [
              "720"
            ]
          },
          "metadata": {},
          "execution_count": 108
        }
      ]
    },
    {
      "cell_type": "markdown",
      "metadata": {
        "id": "adhC8qEpVzaZ"
      },
      "source": [
        "While loops are like the if statement, but they repeat for as long as the condition is true. Here it will repeat for as long as n is greater than 0 and on every iteration, it multiples the value to result. As n is decreased every round, we get that result = n * (n-1) * (n-2) * ... 1, which is n!.  \n",
        "If the condition of the while loop is false initially, like if we called `factorial(0)`, then it is never run."
      ]
    },
    {
      "cell_type": "markdown",
      "metadata": {
        "id": "-KRsNZYsiDRI"
      },
      "source": [
        "`while` is going to repeat for as long as its condition is true. This means it is **really easy** to create an infinite loop and your program will hang until it is forcefully stopped.  \n",
        "On a command line like Terminal, Command Prompt, or IDLE, use Control-C to stop the program. Sometimes that doesn't work and you'll have to quit the application.  \n",
        "In Jupyter Lab or Colab, there should be a stop button next to the cell that will stop the program.  \n",
        "Note: KeyboardInterrupt Errors come from pressing Control-C or the stop button and don't mean that there is something wrong with the program. If the program never finishes, however, then you have an infinite loop, which is an issue."
      ]
    },
    {
      "cell_type": "markdown",
      "metadata": {
        "id": "vMnRlasT_Xzh"
      },
      "source": [
        "Loops are especially useful when working with lists."
      ]
    },
    {
      "cell_type": "code",
      "metadata": {
        "id": "lqAXm34ffjF1",
        "colab": {
          "base_uri": "https://localhost:8080/"
        },
        "outputId": "af83922f-8060-4225-a7ec-e4b1d6d8bcb0"
      },
      "source": [
        "def calculateSum(ls):\n",
        "  index = 0\n",
        "  result = 0\n",
        "  while index < len(ls):\n",
        "    result += ls[index]\n",
        "    index += 1\n",
        "  return result\n",
        "\n",
        "calculateSum([1,2,3,4])"
      ],
      "execution_count": null,
      "outputs": [
        {
          "output_type": "execute_result",
          "data": {
            "text/plain": [
              "10"
            ]
          },
          "metadata": {},
          "execution_count": 109
        }
      ]
    },
    {
      "cell_type": "markdown",
      "metadata": {
        "id": "WPOY7wkMhwNj"
      },
      "source": [
        "### The For Loop"
      ]
    },
    {
      "cell_type": "markdown",
      "metadata": {
        "id": "wb-VUDkyiAcG"
      },
      "source": [
        "A more pythonic way of writing the above function would be to use a for loop. For loops are like while loops, but run once for every element in a list.  \n",
        "Because of this, never add or remove an element from a list that is being looped over. Additionally, for loops rarely cause infinite loops."
      ]
    },
    {
      "cell_type": "code",
      "metadata": {
        "id": "5vmyh9EjkGF4",
        "colab": {
          "base_uri": "https://localhost:8080/"
        },
        "outputId": "d2a90b53-e350-413f-f8b4-86df71e06037"
      },
      "source": [
        "def calculateSum(ls):\n",
        "  result = 0\n",
        "  for e in ls:\n",
        "    result = result + e\n",
        "  return result\n",
        "\n",
        "calculateSum([1,2,3,4])"
      ],
      "execution_count": null,
      "outputs": [
        {
          "output_type": "execute_result",
          "data": {
            "text/plain": [
              "10"
            ]
          },
          "metadata": {},
          "execution_count": 114
        }
      ]
    },
    {
      "cell_type": "markdown",
      "metadata": {
        "id": "MIQ4WJPUkauG"
      },
      "source": [
        "For every iteration of a for loop, the variable between `for` and `in` will be set to the current list element. I used `e` in my example but any variable could be used."
      ]
    },
    {
      "cell_type": "markdown",
      "metadata": {
        "id": "orQmUVFdkuC3"
      },
      "source": [
        "Usually for loops are the preferred way of working with lists in python as they are cleaner and in some cases, especially when working with the `list` type, more efficient.  \n",
        "  \n",
        "There are a few tools for working with for loops, like `reversed`, which reverses the order than a for loop iterates over the list."
      ]
    },
    {
      "cell_type": "code",
      "metadata": {
        "id": "IAOnWvuTlq7O",
        "colab": {
          "base_uri": "https://localhost:8080/"
        },
        "outputId": "2ece936f-db1e-481a-96e7-7380cb1beda5"
      },
      "source": [
        "for e in reversed([1,2,3,4]):\n",
        "  print(e)\n"
      ],
      "execution_count": null,
      "outputs": [
        {
          "output_type": "stream",
          "text": [
            "4\n",
            "3\n",
            "2\n",
            "1\n"
          ],
          "name": "stdout"
        }
      ]
    },
    {
      "cell_type": "markdown",
      "metadata": {
        "id": "BzsLOL2_l2Mb"
      },
      "source": [
        "Or if there are two lists to run over, `zip` will make a list of tuples, each containing one element of each given list."
      ]
    },
    {
      "cell_type": "code",
      "metadata": {
        "id": "bRhtSq0smD9_",
        "colab": {
          "base_uri": "https://localhost:8080/"
        },
        "outputId": "c9ed5f20-bb05-4267-ed16-0c1635a48bd0"
      },
      "source": [
        "for a, b in zip(['a','b','c'], [1, 2, 3]):\n",
        "  print(a, b)"
      ],
      "execution_count": null,
      "outputs": [
        {
          "output_type": "stream",
          "text": [
            "a 1\n",
            "b 2\n",
            "c 3\n"
          ],
          "name": "stdout"
        }
      ]
    },
    {
      "cell_type": "markdown",
      "metadata": {
        "id": "x2L4slGKmQ1v"
      },
      "source": [
        "When working with `dict`, the variable of the for loop will be set to a key. Then use indexing `[]` to get the corresponding value."
      ]
    },
    {
      "cell_type": "code",
      "metadata": {
        "id": "MKbK24bumZjl",
        "colab": {
          "base_uri": "https://localhost:8080/"
        },
        "outputId": "49a73db5-b70b-4f48-ad6f-9222dff6f3a2"
      },
      "source": [
        "data = {'a': 1, 'b': 2, 'c': 3}\n",
        "\n",
        "for key in data:\n",
        "  print('key =', key)\n",
        "  print('value =', data[key])"
      ],
      "execution_count": null,
      "outputs": [
        {
          "output_type": "stream",
          "text": [
            "key = a\n",
            "value = 1\n",
            "key = b\n",
            "value = 2\n",
            "key = c\n",
            "value = 3\n"
          ],
          "name": "stdout"
        }
      ]
    },
    {
      "cell_type": "markdown",
      "metadata": {
        "id": "_NTP6Z3sr5S2"
      },
      "source": [
        "### Range"
      ]
    },
    {
      "cell_type": "markdown",
      "metadata": {
        "id": "GROOF9H0qk3o"
      },
      "source": [
        "For loops can also be used to run a specific number of times, like in other languages, using `range()`.  \n",
        "With one argument, `range(n)` will act as a list starting at 0 up to n-1, excluding n."
      ]
    },
    {
      "cell_type": "code",
      "metadata": {
        "id": "XtAzIbFpq_m2",
        "colab": {
          "base_uri": "https://localhost:8080/",
          "height": 119
        },
        "outputId": "246f778b-8142-4d8f-de7a-f62150465aeb"
      },
      "source": [
        "counter = 0\n",
        "for i in range(5):\n",
        "  counter = counter + 1\n",
        "  print(i)\n",
        "  \n",
        "print('The loop ran', counter, 'times')"
      ],
      "execution_count": null,
      "outputs": [
        {
          "output_type": "stream",
          "text": [
            "0\n",
            "1\n",
            "2\n",
            "3\n",
            "4\n",
            "The loop ran 5 times\n"
          ],
          "name": "stdout"
        }
      ]
    },
    {
      "cell_type": "markdown",
      "metadata": {
        "id": "p_LrtQx0rO2q"
      },
      "source": [
        "With two arguments, `range(a, b)` will start at a and stop before b, excluding b."
      ]
    },
    {
      "cell_type": "code",
      "metadata": {
        "id": "l7asFuXjrXkc",
        "colab": {
          "base_uri": "https://localhost:8080/",
          "height": 102
        },
        "outputId": "a8e4db17-91a2-455c-fca1-7c88d0404e1e"
      },
      "source": [
        "for i in range(5, 10):\n",
        "  print(i)"
      ],
      "execution_count": null,
      "outputs": [
        {
          "output_type": "stream",
          "text": [
            "5\n",
            "6\n",
            "7\n",
            "8\n",
            "9\n"
          ],
          "name": "stdout"
        }
      ]
    },
    {
      "cell_type": "markdown",
      "metadata": {
        "id": "eJwt5E-Krcbs"
      },
      "source": [
        "With three arguments, `range(a, b, c)` will start at a and stop before b, excluding b and increment by c each iteration."
      ]
    },
    {
      "cell_type": "code",
      "metadata": {
        "id": "89JP_GCHrlNG",
        "colab": {
          "base_uri": "https://localhost:8080/",
          "height": 85
        },
        "outputId": "220db410-5e34-4957-deca-893e91c1f1ca"
      },
      "source": [
        "for i in range(0, 10, 3):\n",
        "  print(i)"
      ],
      "execution_count": null,
      "outputs": [
        {
          "output_type": "stream",
          "text": [
            "0\n",
            "3\n",
            "6\n",
            "9\n"
          ],
          "name": "stdout"
        }
      ]
    },
    {
      "cell_type": "markdown",
      "metadata": {
        "id": "5XUkzzr4lDHY"
      },
      "source": [
        "### The Break Statement"
      ]
    },
    {
      "cell_type": "markdown",
      "metadata": {
        "id": "5DDjzuKCoBVM"
      },
      "source": [
        "Sometimes in a while or for loop, we want to stop suddenly when a condition is met. The break allows for this, ending the loop when run."
      ]
    },
    {
      "cell_type": "code",
      "metadata": {
        "id": "jNVWvRejoOY3",
        "colab": {
          "base_uri": "https://localhost:8080/",
          "height": 34
        },
        "outputId": "a84ba25d-d7b6-412b-e82e-7fc231676a99"
      },
      "source": [
        "ls = [1,2,3,4]\n",
        "value = 3\n",
        "\n",
        "foundValue = False\n",
        "for e in ls:\n",
        "  if e == value:\n",
        "    foundValue = True\n",
        "    break # found the value, so no need to continue\n",
        "\n",
        "print(\"Found Value?\", foundValue)\n"
      ],
      "execution_count": null,
      "outputs": [
        {
          "output_type": "stream",
          "text": [
            "Found Value? True\n"
          ],
          "name": "stdout"
        }
      ]
    },
    {
      "cell_type": "markdown",
      "metadata": {
        "id": "1BY6s-cLqMih"
      },
      "source": [
        "### The Continue Statement"
      ]
    },
    {
      "cell_type": "markdown",
      "metadata": {
        "id": "YcxfcH7VqPWG"
      },
      "source": [
        "The continue statement is useful when in a loop certain code should be skipped. Once `continue` is run, it will skip the rest of the loop's code and continue to the next iteration."
      ]
    },
    {
      "cell_type": "code",
      "metadata": {
        "id": "LjLT7kLpqhAm",
        "colab": {
          "base_uri": "https://localhost:8080/",
          "height": 34
        },
        "outputId": "b7205c49-93f0-4516-b1a6-5b6934905d7b"
      },
      "source": [
        "\n",
        "sumNotDivisibleBy7 = 0\n",
        "\n",
        "for i in range(20):\n",
        "  if i % 7 == 0:\n",
        "    continue # 'Divisible by 7\n",
        "  \n",
        "  sumNotDivisibleBy7 = sumNotDivisibleBy7 + i\n",
        "\n",
        "print(sumNotDivisibleBy7)"
      ],
      "execution_count": null,
      "outputs": [
        {
          "output_type": "stream",
          "text": [
            "169\n"
          ],
          "name": "stdout"
        }
      ]
    },
    {
      "cell_type": "markdown",
      "metadata": {
        "id": "z_gE7U9WnwJx"
      },
      "source": [
        "## Debugging"
      ]
    },
    {
      "cell_type": "markdown",
      "metadata": {
        "id": "ed6J5dKhnydl"
      },
      "source": [
        "When programming, it is guaranteed that something will go wrong at some point. No one constantly writes perfect code on their first try. Flaws sneak into programs all the time, so learning to find them is just as important as learning to program.  \n",
        "I'm gonna cover how I would approach a piece of dysfunctional code to find the mistake I made.  \n",
        "I'm gonna be using the print statement. There are fancier debugging tools, but for most cases in python, print will do the job."
      ]
    },
    {
      "cell_type": "code",
      "metadata": {
        "id": "8xkck8dyomJ6",
        "colab": {
          "base_uri": "https://localhost:8080/",
          "height": 34
        },
        "outputId": "635f6834-7193-47f0-e432-39c0a2271167"
      },
      "source": [
        "def mode(ls):\n",
        "\td = {}  # make a dictionary that counts how often each value appears\n",
        "\tfor value in ls:\n",
        "\t\tif value in d:\n",
        "\t\t\td[value] += 1  # seen it before, increase by one\n",
        "\t\telse:\n",
        "\t\t\td[value] = 1    # never seen this value\n",
        "\n",
        "\tmaxValue = ls[0]   # now find the most occuring value\n",
        "\tfor key in ls:\n",
        "\t\tif ls[key] > ls[maxValue]:   # if value key occurs more often than maxValue, it is the new maxValue\n",
        "\t\t\tmaxValue = key\n",
        "\treturn maxValue\n",
        "\n",
        "mode([1,2,2,3])"
      ],
      "execution_count": null,
      "outputs": [
        {
          "output_type": "execute_result",
          "data": {
            "text/plain": [
              "3"
            ]
          },
          "metadata": {
            "tags": []
          },
          "execution_count": 10
        }
      ]
    },
    {
      "cell_type": "markdown",
      "metadata": {
        "id": "Sy8woPzCop0G"
      },
      "source": [
        "This is a piece of code I intended to put a small bug into to show how debugging works, but in the process of writing it, I managed to do it accidentally.  \n",
        "The function returns 3 as the mode, but 2 is the one that occurs most often.  "
      ]
    },
    {
      "cell_type": "markdown",
      "metadata": {
        "id": "OCtlsrOTp_cp"
      },
      "source": [
        "First, we have to narrow down where the problem is.  \n",
        "In the first part, we track in a `dict` how often each item occurs in the list. We do that by having the keys in our `dict` d be the elements in ls and the corresponding value being the number of times we have seen it. When the element is not in d, we haven't seen it yet so we set the times we've seen it to once as this is our first time.  \n",
        "If we have seen the element (it exists as a key in d), we increment it by 1.  \n",
        "  \n",
        "So we add `print(d)` to verify if this for loop is correct. If it is, we should see `{1: 1, 2: 2, 3: 1}`."
      ]
    },
    {
      "cell_type": "code",
      "metadata": {
        "id": "HMXslABep12t",
        "colab": {
          "base_uri": "https://localhost:8080/",
          "height": 51
        },
        "outputId": "958b764c-e928-4f47-f242-65f3bf352edf"
      },
      "source": [
        "def mode(ls):\n",
        "\td = {}\n",
        "\tfor value in ls:\n",
        "\t\tif value in d:\n",
        "\t\t\td[value] += 1\n",
        "\t\telse:\n",
        "\t\t\td[value] = 1\n",
        "\tprint(d)  # checks if the first part when right\n",
        "\tmaxValue = ls[0]\n",
        "\tfor key in ls:\n",
        "\t\tif ls[key] > ls[maxValue]:\n",
        "\t\t\tmaxValue = key\n",
        "\treturn maxValue\n",
        "\n",
        "mode([1, 2, 2, 3])"
      ],
      "execution_count": null,
      "outputs": [
        {
          "output_type": "stream",
          "text": [
            "{1: 1, 2: 2, 3: 1}\n"
          ],
          "name": "stdout"
        },
        {
          "output_type": "execute_result",
          "data": {
            "text/plain": [
              "3"
            ]
          },
          "metadata": {
            "tags": []
          },
          "execution_count": 11
        }
      ]
    },
    {
      "cell_type": "markdown",
      "metadata": {
        "id": "oBcS1NvLrH7c"
      },
      "source": [
        "We do get what we expected, so the error must be in the second part of our code.  \n",
        "So I added another print statement to check on what is happening in the second for loop."
      ]
    },
    {
      "cell_type": "code",
      "metadata": {
        "id": "LCIRbIPArdB_",
        "colab": {
          "base_uri": "https://localhost:8080/",
          "height": 119
        },
        "outputId": "b50ecbb5-6759-4d35-cd00-d1f8b484909d"
      },
      "source": [
        "def mode(ls):\n",
        "\td = {}\n",
        "\tfor value in ls:\n",
        "\t\tif value in d:\n",
        "\t\t\td[value] += 1\n",
        "\t\telse:\n",
        "\t\t\td[value] = 1\n",
        "\tprint(d)\n",
        "\tmaxValue = ls[0]\n",
        "\tfor key in ls:\n",
        "\t\tprint(key, ls[key])  # check what’s being compared\n",
        "\t\tif ls[key] > ls[maxValue]:\n",
        "\t\t\tmaxValue = key\n",
        "\treturn maxValue\n",
        "\n",
        "mode([1, 2, 2, 3])"
      ],
      "execution_count": null,
      "outputs": [
        {
          "output_type": "stream",
          "text": [
            "{1: 1, 2: 2, 3: 1}\n",
            "1 2\n",
            "2 2\n",
            "2 2\n",
            "3 3\n"
          ],
          "name": "stdout"
        },
        {
          "output_type": "execute_result",
          "data": {
            "text/plain": [
              "3"
            ]
          },
          "metadata": {
            "tags": []
          },
          "execution_count": 12
        }
      ]
    },
    {
      "cell_type": "markdown",
      "metadata": {
        "id": "hpyNsqE3sF2w"
      },
      "source": [
        "Then we analyze the result and check if it is what we expected.\n",
        "> {1: 1, 2: 2, 3: 1}  \n",
        "> 1 2 <- makes no sense. The key-value pair in d is 1: 1   \n",
        "> 2 2  \n",
        "> 2 2  \n",
        "> 3 3 <- makes no sense. The key-value pair in d is 3: 1  \n",
        "> 3  \n",
        "  \n",
        "We are comparing how many times each value appears, so `1 2` and `3 3` both make no sense.  \n",
        "While looking over the section, it should appear that although we want to compare data from d, we are getting it from ls, which is the wrong variable.\n"
      ]
    },
    {
      "cell_type": "code",
      "metadata": {
        "id": "N5ffmkkKtf5-",
        "colab": {
          "base_uri": "https://localhost:8080/",
          "height": 34
        },
        "outputId": "5c7f418c-974c-4008-c779-86f9c9bcf682"
      },
      "source": [
        "def mode(ls):\n",
        "\td = {}\n",
        "\tfor value in ls:\n",
        "\t\tif value in d:\n",
        "\t\t\td[value] += 1\n",
        "\t\telse:\n",
        "\t\t\td[value] = 1\n",
        "\tmaxValue = ls[0]\n",
        "\tfor key in d: # replaced ls with d\n",
        "\t\tif d[key] > d[maxValue]: # replaced ls with d\n",
        "\t\t\tmaxValue = key\n",
        "\treturn maxValue\n",
        "\n",
        "mode([1, 2, 2, 3])"
      ],
      "execution_count": null,
      "outputs": [
        {
          "output_type": "execute_result",
          "data": {
            "text/plain": [
              "2"
            ]
          },
          "metadata": {
            "tags": []
          },
          "execution_count": 17
        }
      ]
    },
    {
      "cell_type": "markdown",
      "metadata": {
        "id": "KS_nb8kYt2Ue"
      },
      "source": [
        "Replacing ls with d in the second for loop fixed the problem and we are getting a result of 2, which is what we expected for the given input."
      ]
    }
  ]
}